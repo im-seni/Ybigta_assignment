{
  "nbformat": 4,
  "nbformat_minor": 0,
  "metadata": {
    "colab": {
      "provenance": [],
      "gpuType": "T4"
    },
    "kernelspec": {
      "name": "python3",
      "display_name": "Python 3"
    },
    "language_info": {
      "name": "python"
    },
    "accelerator": "GPU"
  },
  "cells": [
    {
      "cell_type": "markdown",
      "source": [
        "##Text Generation using RNN LSTM (Pytorch)\n",
        "###Lyrics generatator\n",
        "🤖 참고한 코드  \n",
        "https://github.com/trekhleb/machine-learning-experiments/tree/0cfc7cac2daaff3e37b33bbf1284d3f19a5d78a1/experiments/text_generation_shakespeare_rnn   \n",
        "https://www.kaggle.com/code/super13579/let-s-auto-write-the-deep-purple-lysics-pytorch/notebook#Let's-use-the-Deep-Purple-lysics-to-train-a-LSTM-simulated-Deep-Purple-write-lyrics-automatically-(Rock!!)   \n",
        "& special thanks to DS 22기 조성원  \n",
        "🤖 데이터셋   \n",
        "from kaggle  \n",
        "🤖 LSTM 논문  \n",
        "https://www.bioinf.jku.at/publications/older/2604.pdf  \n"
      ],
      "metadata": {
        "id": "UmJ-t9b50PiK"
      }
    },
    {
      "cell_type": "markdown",
      "source": [
        "##I. INTRODUCTION  \n",
        "Implementing a Recurrent Neural Network (RNN), specifically Long-Short Term Memory (LSTM), to create a lyrics generator."
      ],
      "metadata": {
        "id": "GGPRHPzB089b"
      }
    },
    {
      "cell_type": "markdown",
      "source": [
        "## Import dependencies"
      ],
      "metadata": {
        "id": "oQPMObZT1Cvw"
      }
    },
    {
      "cell_type": "code",
      "source": [
        "import matplotlib.pyplot as plt\n",
        "import numpy as np\n",
        "import platform\n",
        "import time\n",
        "import pathlib\n",
        "import os\n",
        "\n",
        "import torch\n",
        "import torch.nn as nn\n",
        "import torch.nn.functional as F\n",
        "import torch.optim as optim\n",
        "from torchvision import datasets\n",
        "from torchvision.transforms import ToTensor\n",
        "import matplotlib.pyplot as plt\n",
        "from torch.utils.data import DataLoader\n",
        "from torch.utils.data import Dataset"
      ],
      "metadata": {
        "id": "aUafOKUy1Ezw"
      },
      "execution_count": 1,
      "outputs": []
    },
    {
      "cell_type": "markdown",
      "source": [
        "## Download the dataset"
      ],
      "metadata": {
        "id": "LjSB9AyB1Imb"
      }
    },
    {
      "cell_type": "code",
      "source": [
        "from google.colab import drive\n",
        "drive.mount('/content/drive')"
      ],
      "metadata": {
        "id": "0dt9XuA_1KLX",
        "colab": {
          "base_uri": "https://localhost:8080/"
        },
        "outputId": "445824ef-1d1e-40c0-84ca-254906e5d8de"
      },
      "execution_count": 2,
      "outputs": [
        {
          "output_type": "stream",
          "name": "stdout",
          "text": [
            "Mounted at /content/drive\n"
          ]
        }
      ]
    },
    {
      "cell_type": "code",
      "source": [
        "import pandas as pd\n",
        "\n",
        "# 드라이브에 있는 CSV 파일 읽기 예시 (lyrics.csv가 있는 파일 경로를 적어주세요)\n",
        "file_path = '/content/drive/MyDrive/lyrics.csv'\n",
        "\n",
        "df = pd.read_csv(file_path)\n",
        "\n",
        "# data frame 확인\n",
        "df.head()"
      ],
      "metadata": {
        "id": "_i-KTLK21M8x",
        "colab": {
          "base_uri": "https://localhost:8080/",
          "height": 310
        },
        "outputId": "4e597b01-21d1-4e8a-cb0b-21692a06dd21"
      },
      "execution_count": 3,
      "outputs": [
        {
          "output_type": "execute_result",
          "data": {
            "text/plain": [
              "   Unnamed: 0        artist  \\\n",
              "0           0  Elijah Blake   \n",
              "1           1  Elijah Blake   \n",
              "2           2  Elijah Blake   \n",
              "3           3  Elijah Blake   \n",
              "4           4  Elijah Blake   \n",
              "\n",
              "                                                 seq                song  \\\n",
              "0  No, no\\r\\nI ain't ever trapped out the bando\\r...            Everyday   \n",
              "1  The drinks go down and smoke goes up, I feel m...    Live Till We Die   \n",
              "2  She don't live on planet Earth no more\\r\\nShe ...       The Otherside   \n",
              "3  Trippin' off that Grigio, mobbin', lights low\\...               Pinot   \n",
              "4  I see a midnight panther, so gallant and so br...  Shadows & Diamonds   \n",
              "\n",
              "   label  \n",
              "0  0.626  \n",
              "1  0.630  \n",
              "2  0.240  \n",
              "3  0.536  \n",
              "4  0.371  "
            ],
            "text/html": [
              "\n",
              "  <div id=\"df-8b1377a4-32c8-4ece-b536-dae643aca786\" class=\"colab-df-container\">\n",
              "    <div>\n",
              "<style scoped>\n",
              "    .dataframe tbody tr th:only-of-type {\n",
              "        vertical-align: middle;\n",
              "    }\n",
              "\n",
              "    .dataframe tbody tr th {\n",
              "        vertical-align: top;\n",
              "    }\n",
              "\n",
              "    .dataframe thead th {\n",
              "        text-align: right;\n",
              "    }\n",
              "</style>\n",
              "<table border=\"1\" class=\"dataframe\">\n",
              "  <thead>\n",
              "    <tr style=\"text-align: right;\">\n",
              "      <th></th>\n",
              "      <th>Unnamed: 0</th>\n",
              "      <th>artist</th>\n",
              "      <th>seq</th>\n",
              "      <th>song</th>\n",
              "      <th>label</th>\n",
              "    </tr>\n",
              "  </thead>\n",
              "  <tbody>\n",
              "    <tr>\n",
              "      <th>0</th>\n",
              "      <td>0</td>\n",
              "      <td>Elijah Blake</td>\n",
              "      <td>No, no\\r\\nI ain't ever trapped out the bando\\r...</td>\n",
              "      <td>Everyday</td>\n",
              "      <td>0.626</td>\n",
              "    </tr>\n",
              "    <tr>\n",
              "      <th>1</th>\n",
              "      <td>1</td>\n",
              "      <td>Elijah Blake</td>\n",
              "      <td>The drinks go down and smoke goes up, I feel m...</td>\n",
              "      <td>Live Till We Die</td>\n",
              "      <td>0.630</td>\n",
              "    </tr>\n",
              "    <tr>\n",
              "      <th>2</th>\n",
              "      <td>2</td>\n",
              "      <td>Elijah Blake</td>\n",
              "      <td>She don't live on planet Earth no more\\r\\nShe ...</td>\n",
              "      <td>The Otherside</td>\n",
              "      <td>0.240</td>\n",
              "    </tr>\n",
              "    <tr>\n",
              "      <th>3</th>\n",
              "      <td>3</td>\n",
              "      <td>Elijah Blake</td>\n",
              "      <td>Trippin' off that Grigio, mobbin', lights low\\...</td>\n",
              "      <td>Pinot</td>\n",
              "      <td>0.536</td>\n",
              "    </tr>\n",
              "    <tr>\n",
              "      <th>4</th>\n",
              "      <td>4</td>\n",
              "      <td>Elijah Blake</td>\n",
              "      <td>I see a midnight panther, so gallant and so br...</td>\n",
              "      <td>Shadows &amp; Diamonds</td>\n",
              "      <td>0.371</td>\n",
              "    </tr>\n",
              "  </tbody>\n",
              "</table>\n",
              "</div>\n",
              "    <div class=\"colab-df-buttons\">\n",
              "\n",
              "  <div class=\"colab-df-container\">\n",
              "    <button class=\"colab-df-convert\" onclick=\"convertToInteractive('df-8b1377a4-32c8-4ece-b536-dae643aca786')\"\n",
              "            title=\"Convert this dataframe to an interactive table.\"\n",
              "            style=\"display:none;\">\n",
              "\n",
              "  <svg xmlns=\"http://www.w3.org/2000/svg\" height=\"24px\" viewBox=\"0 -960 960 960\">\n",
              "    <path d=\"M120-120v-720h720v720H120Zm60-500h600v-160H180v160Zm220 220h160v-160H400v160Zm0 220h160v-160H400v160ZM180-400h160v-160H180v160Zm440 0h160v-160H620v160ZM180-180h160v-160H180v160Zm440 0h160v-160H620v160Z\"/>\n",
              "  </svg>\n",
              "    </button>\n",
              "\n",
              "  <style>\n",
              "    .colab-df-container {\n",
              "      display:flex;\n",
              "      gap: 12px;\n",
              "    }\n",
              "\n",
              "    .colab-df-convert {\n",
              "      background-color: #E8F0FE;\n",
              "      border: none;\n",
              "      border-radius: 50%;\n",
              "      cursor: pointer;\n",
              "      display: none;\n",
              "      fill: #1967D2;\n",
              "      height: 32px;\n",
              "      padding: 0 0 0 0;\n",
              "      width: 32px;\n",
              "    }\n",
              "\n",
              "    .colab-df-convert:hover {\n",
              "      background-color: #E2EBFA;\n",
              "      box-shadow: 0px 1px 2px rgba(60, 64, 67, 0.3), 0px 1px 3px 1px rgba(60, 64, 67, 0.15);\n",
              "      fill: #174EA6;\n",
              "    }\n",
              "\n",
              "    .colab-df-buttons div {\n",
              "      margin-bottom: 4px;\n",
              "    }\n",
              "\n",
              "    [theme=dark] .colab-df-convert {\n",
              "      background-color: #3B4455;\n",
              "      fill: #D2E3FC;\n",
              "    }\n",
              "\n",
              "    [theme=dark] .colab-df-convert:hover {\n",
              "      background-color: #434B5C;\n",
              "      box-shadow: 0px 1px 3px 1px rgba(0, 0, 0, 0.15);\n",
              "      filter: drop-shadow(0px 1px 2px rgba(0, 0, 0, 0.3));\n",
              "      fill: #FFFFFF;\n",
              "    }\n",
              "  </style>\n",
              "\n",
              "    <script>\n",
              "      const buttonEl =\n",
              "        document.querySelector('#df-8b1377a4-32c8-4ece-b536-dae643aca786 button.colab-df-convert');\n",
              "      buttonEl.style.display =\n",
              "        google.colab.kernel.accessAllowed ? 'block' : 'none';\n",
              "\n",
              "      async function convertToInteractive(key) {\n",
              "        const element = document.querySelector('#df-8b1377a4-32c8-4ece-b536-dae643aca786');\n",
              "        const dataTable =\n",
              "          await google.colab.kernel.invokeFunction('convertToInteractive',\n",
              "                                                    [key], {});\n",
              "        if (!dataTable) return;\n",
              "\n",
              "        const docLinkHtml = 'Like what you see? Visit the ' +\n",
              "          '<a target=\"_blank\" href=https://colab.research.google.com/notebooks/data_table.ipynb>data table notebook</a>'\n",
              "          + ' to learn more about interactive tables.';\n",
              "        element.innerHTML = '';\n",
              "        dataTable['output_type'] = 'display_data';\n",
              "        await google.colab.output.renderOutput(dataTable, element);\n",
              "        const docLink = document.createElement('div');\n",
              "        docLink.innerHTML = docLinkHtml;\n",
              "        element.appendChild(docLink);\n",
              "      }\n",
              "    </script>\n",
              "  </div>\n",
              "\n",
              "\n",
              "<div id=\"df-2690d0e1-499f-4243-aa1b-1be11c2b2b36\">\n",
              "  <button class=\"colab-df-quickchart\" onclick=\"quickchart('df-2690d0e1-499f-4243-aa1b-1be11c2b2b36')\"\n",
              "            title=\"Suggest charts\"\n",
              "            style=\"display:none;\">\n",
              "\n",
              "<svg xmlns=\"http://www.w3.org/2000/svg\" height=\"24px\"viewBox=\"0 0 24 24\"\n",
              "     width=\"24px\">\n",
              "    <g>\n",
              "        <path d=\"M19 3H5c-1.1 0-2 .9-2 2v14c0 1.1.9 2 2 2h14c1.1 0 2-.9 2-2V5c0-1.1-.9-2-2-2zM9 17H7v-7h2v7zm4 0h-2V7h2v10zm4 0h-2v-4h2v4z\"/>\n",
              "    </g>\n",
              "</svg>\n",
              "  </button>\n",
              "\n",
              "<style>\n",
              "  .colab-df-quickchart {\n",
              "      --bg-color: #E8F0FE;\n",
              "      --fill-color: #1967D2;\n",
              "      --hover-bg-color: #E2EBFA;\n",
              "      --hover-fill-color: #174EA6;\n",
              "      --disabled-fill-color: #AAA;\n",
              "      --disabled-bg-color: #DDD;\n",
              "  }\n",
              "\n",
              "  [theme=dark] .colab-df-quickchart {\n",
              "      --bg-color: #3B4455;\n",
              "      --fill-color: #D2E3FC;\n",
              "      --hover-bg-color: #434B5C;\n",
              "      --hover-fill-color: #FFFFFF;\n",
              "      --disabled-bg-color: #3B4455;\n",
              "      --disabled-fill-color: #666;\n",
              "  }\n",
              "\n",
              "  .colab-df-quickchart {\n",
              "    background-color: var(--bg-color);\n",
              "    border: none;\n",
              "    border-radius: 50%;\n",
              "    cursor: pointer;\n",
              "    display: none;\n",
              "    fill: var(--fill-color);\n",
              "    height: 32px;\n",
              "    padding: 0;\n",
              "    width: 32px;\n",
              "  }\n",
              "\n",
              "  .colab-df-quickchart:hover {\n",
              "    background-color: var(--hover-bg-color);\n",
              "    box-shadow: 0 1px 2px rgba(60, 64, 67, 0.3), 0 1px 3px 1px rgba(60, 64, 67, 0.15);\n",
              "    fill: var(--button-hover-fill-color);\n",
              "  }\n",
              "\n",
              "  .colab-df-quickchart-complete:disabled,\n",
              "  .colab-df-quickchart-complete:disabled:hover {\n",
              "    background-color: var(--disabled-bg-color);\n",
              "    fill: var(--disabled-fill-color);\n",
              "    box-shadow: none;\n",
              "  }\n",
              "\n",
              "  .colab-df-spinner {\n",
              "    border: 2px solid var(--fill-color);\n",
              "    border-color: transparent;\n",
              "    border-bottom-color: var(--fill-color);\n",
              "    animation:\n",
              "      spin 1s steps(1) infinite;\n",
              "  }\n",
              "\n",
              "  @keyframes spin {\n",
              "    0% {\n",
              "      border-color: transparent;\n",
              "      border-bottom-color: var(--fill-color);\n",
              "      border-left-color: var(--fill-color);\n",
              "    }\n",
              "    20% {\n",
              "      border-color: transparent;\n",
              "      border-left-color: var(--fill-color);\n",
              "      border-top-color: var(--fill-color);\n",
              "    }\n",
              "    30% {\n",
              "      border-color: transparent;\n",
              "      border-left-color: var(--fill-color);\n",
              "      border-top-color: var(--fill-color);\n",
              "      border-right-color: var(--fill-color);\n",
              "    }\n",
              "    40% {\n",
              "      border-color: transparent;\n",
              "      border-right-color: var(--fill-color);\n",
              "      border-top-color: var(--fill-color);\n",
              "    }\n",
              "    60% {\n",
              "      border-color: transparent;\n",
              "      border-right-color: var(--fill-color);\n",
              "    }\n",
              "    80% {\n",
              "      border-color: transparent;\n",
              "      border-right-color: var(--fill-color);\n",
              "      border-bottom-color: var(--fill-color);\n",
              "    }\n",
              "    90% {\n",
              "      border-color: transparent;\n",
              "      border-bottom-color: var(--fill-color);\n",
              "    }\n",
              "  }\n",
              "</style>\n",
              "\n",
              "  <script>\n",
              "    async function quickchart(key) {\n",
              "      const quickchartButtonEl =\n",
              "        document.querySelector('#' + key + ' button');\n",
              "      quickchartButtonEl.disabled = true;  // To prevent multiple clicks.\n",
              "      quickchartButtonEl.classList.add('colab-df-spinner');\n",
              "      try {\n",
              "        const charts = await google.colab.kernel.invokeFunction(\n",
              "            'suggestCharts', [key], {});\n",
              "      } catch (error) {\n",
              "        console.error('Error during call to suggestCharts:', error);\n",
              "      }\n",
              "      quickchartButtonEl.classList.remove('colab-df-spinner');\n",
              "      quickchartButtonEl.classList.add('colab-df-quickchart-complete');\n",
              "    }\n",
              "    (() => {\n",
              "      let quickchartButtonEl =\n",
              "        document.querySelector('#df-2690d0e1-499f-4243-aa1b-1be11c2b2b36 button');\n",
              "      quickchartButtonEl.style.display =\n",
              "        google.colab.kernel.accessAllowed ? 'block' : 'none';\n",
              "    })();\n",
              "  </script>\n",
              "</div>\n",
              "\n",
              "    </div>\n",
              "  </div>\n"
            ]
          },
          "metadata": {},
          "execution_count": 3
        }
      ]
    },
    {
      "cell_type": "code",
      "source": [
        "#데이터 중 일부만 가져오기 - 가져올 데이터 자유롭게 선택해주세요\n",
        "random_sample = df.sample(n=1000, random_state=19)"
      ],
      "metadata": {
        "id": "b5Rbh1er1eUG"
      },
      "execution_count": 4,
      "outputs": []
    },
    {
      "cell_type": "code",
      "source": [
        "#가져온 데이터 확인\n",
        "print(random_sample.head())"
      ],
      "metadata": {
        "id": "gRPn3gdD1gbP",
        "colab": {
          "base_uri": "https://localhost:8080/"
        },
        "outputId": "974fd49f-4737-4bb6-8cbc-c442d3bfca67"
      },
      "execution_count": 5,
      "outputs": [
        {
          "output_type": "stream",
          "name": "stdout",
          "text": [
            "        Unnamed: 0              artist  \\\n",
            "67830        67830             Darkane   \n",
            "114589      114589              Kemuri   \n",
            "111513      111513                Them   \n",
            "98856        98856  Hank Williams, Jr.   \n",
            "23427        23427   The Panic Channel   \n",
            "\n",
            "                                                      seq  \\\n",
            "67830   The beauty of your escaping soul\\r\\nBehold my ...   \n",
            "114589  Are we still the same?\\r\\nOr are we so differe...   \n",
            "111513  Well, I love you, love you darlin'\\r\\nLike I n...   \n",
            "98856   Mr Weather man what is your forecast,\\r\\nI nee...   \n",
            "23427   I'm silent\\r\\nIn the rolling wake\\r\\nOf lucky ...   \n",
            "\n",
            "                       song   label  \n",
            "67830   Chase for Existence  0.0614  \n",
            "114589        Second Chance  0.8120  \n",
            "111513       All for Myself  0.8080  \n",
            "98856            Weatherman  0.3630  \n",
            "23427              Outsider  0.1650  \n"
          ]
        }
      ]
    },
    {
      "cell_type": "markdown",
      "source": [
        "##Analyze the dataset"
      ],
      "metadata": {
        "id": "Vow1djLS1ln9"
      }
    },
    {
      "cell_type": "code",
      "source": [
        "#데이터프레임에서 'seq' 열(가사부분)을 선택하고, 각 행의 'seq' 값을 소문자로 변환\n",
        "random_text = random_sample['seq'].str.cat(sep='\\n').lower() #시리즈 데이터 연결하기\n",
        "print(random_text[:94])\n",
        "print('corpus length:', len(random_text))"
      ],
      "metadata": {
        "id": "4fAjivU91r5U",
        "colab": {
          "base_uri": "https://localhost:8080/"
        },
        "outputId": "278f423f-365a-44f7-d18d-ad8fe0c28477"
      },
      "execution_count": 6,
      "outputs": [
        {
          "output_type": "stream",
          "name": "stdout",
          "text": [
            "the beauty of your escaping soul\r\n",
            "behold my true distress\r\n",
            "your naked mind is barely existing\r\n",
            "corpus length: 1143721\n"
          ]
        }
      ]
    },
    {
      "cell_type": "code",
      "source": [
        "# Take a look at the first 286 characters in text.\n",
        "print(random_text[:286])"
      ],
      "metadata": {
        "id": "jF-v-1nQ1t02",
        "colab": {
          "base_uri": "https://localhost:8080/"
        },
        "outputId": "e827c090-b9d4-4865-9d61-22bb6e0a79c1"
      },
      "execution_count": 7,
      "outputs": [
        {
          "output_type": "stream",
          "name": "stdout",
          "text": [
            "the beauty of your escaping soul\r\n",
            "behold my true distress\r\n",
            "your naked mind is barely existing\r\n",
            "i have dreams you could never imagine\r\n",
            "explore your forbidden defiance\r\n",
            "see the realm of temptation\r\n",
            "knowing anger\r\n",
            "will betray me\r\n",
            "disconnected\r\n",
            "from all feelings\r\n",
            "the chase for my existence\n"
          ]
        }
      ]
    },
    {
      "cell_type": "code",
      "source": [
        "# The unique characters in the file 확인\n",
        "vocab = sorted(set(random_text))\n",
        "\n",
        "print('{} unique characters'.format(len(vocab)))\n",
        "print('vocab:', vocab)"
      ],
      "metadata": {
        "id": "bzsxEKR71xR1",
        "colab": {
          "base_uri": "https://localhost:8080/"
        },
        "outputId": "32ee489f-bebb-4303-e0bc-ee1db3a21ba1"
      },
      "execution_count": 8,
      "outputs": [
        {
          "output_type": "stream",
          "name": "stdout",
          "text": [
            "63 unique characters\n",
            "vocab: ['\\t', '\\n', '\\r', ' ', '!', '\"', '#', '%', '&', \"'\", '(', ')', '*', '+', ',', '-', '.', '/', '0', '1', '2', '3', '4', '5', '6', '7', '8', '9', ':', ';', '>', '?', '[', ']', '`', 'a', 'b', 'c', 'd', 'e', 'f', 'g', 'h', 'i', 'j', 'k', 'l', 'm', 'n', 'o', 'p', 'q', 'r', 's', 't', 'u', 'v', 'w', 'x', 'y', 'z', '{', '}']\n"
          ]
        }
      ]
    },
    {
      "cell_type": "markdown",
      "source": [
        "##Process the dataset"
      ],
      "metadata": {
        "id": "q69DoyMY11if"
      }
    },
    {
      "cell_type": "markdown",
      "source": [
        "###Vectorize the text\n",
        "Recurrent Neural Network (RNN)에 텍스트 데이터를 입력으로 제공하기 전에, 텍스트를 문자의 시퀀스에서 숫자의 시퀀스로 변환하는 과정을 거칩니다."
      ],
      "metadata": {
        "id": "bYkyU5yF16Bw"
      }
    },
    {
      "cell_type": "code",
      "source": [
        "char2index = {char: index for index, char in enumerate(vocab)}\n",
        "\n",
        "print('{')\n",
        "for char, _ in zip(char2index, range(20)):\n",
        "    print('  {:4s}: {:3d},'.format(repr(char), char2index[char])) #repr (문자열로 객체 생성)\n",
        "    # 4s -> 네 번째 칸에서 문자가 끝나게\n",
        "print('  ...\\n}')"
      ],
      "metadata": {
        "id": "I8a2MQBL14tm",
        "colab": {
          "base_uri": "https://localhost:8080/"
        },
        "outputId": "4f0a41fd-4f84-4e3e-fc17-a3eaf8e04345"
      },
      "execution_count": 9,
      "outputs": [
        {
          "output_type": "stream",
          "name": "stdout",
          "text": [
            "{\n",
            "  '\\t':   0,\n",
            "  '\\n':   1,\n",
            "  '\\r':   2,\n",
            "  ' ' :   3,\n",
            "  '!' :   4,\n",
            "  '\"' :   5,\n",
            "  '#' :   6,\n",
            "  '%' :   7,\n",
            "  '&' :   8,\n",
            "  \"'\" :   9,\n",
            "  '(' :  10,\n",
            "  ')' :  11,\n",
            "  '*' :  12,\n",
            "  '+' :  13,\n",
            "  ',' :  14,\n",
            "  '-' :  15,\n",
            "  '.' :  16,\n",
            "  '/' :  17,\n",
            "  '0' :  18,\n",
            "  '1' :  19,\n",
            "  ...\n",
            "}\n"
          ]
        }
      ]
    },
    {
      "cell_type": "code",
      "source": [
        "# Map character indices to characters from vacabulary.\n",
        "index2char = np.array(vocab)\n",
        "print(index2char)\n",
        "\n",
        "len(index2char)"
      ],
      "metadata": {
        "id": "2O3TA1Bq2BF5",
        "colab": {
          "base_uri": "https://localhost:8080/"
        },
        "outputId": "30c87694-4577-4a14-a755-70b490b95661"
      },
      "execution_count": 10,
      "outputs": [
        {
          "output_type": "stream",
          "name": "stdout",
          "text": [
            "['\\t' '\\n' '\\r' ' ' '!' '\"' '#' '%' '&' \"'\" '(' ')' '*' '+' ',' '-' '.'\n",
            " '/' '0' '1' '2' '3' '4' '5' '6' '7' '8' '9' ':' ';' '>' '?' '[' ']' '`'\n",
            " 'a' 'b' 'c' 'd' 'e' 'f' 'g' 'h' 'i' 'j' 'k' 'l' 'm' 'n' 'o' 'p' 'q' 'r'\n",
            " 's' 't' 'u' 'v' 'w' 'x' 'y' 'z' '{' '}']\n"
          ]
        },
        {
          "output_type": "execute_result",
          "data": {
            "text/plain": [
              "63"
            ]
          },
          "metadata": {},
          "execution_count": 10
        }
      ]
    },
    {
      "cell_type": "code",
      "source": [
        "# Convert chars in text to indices.\n",
        "text_as_int = np.array([char2index[char] for char in random_text])\n",
        "\n",
        "print('text_as_int length: {}'.format(len(text_as_int)))\n",
        "print('{} --> {}'.format(repr(random_text[:32]), repr(text_as_int[:32])))"
      ],
      "metadata": {
        "id": "nSFDK8un2EQg",
        "colab": {
          "base_uri": "https://localhost:8080/"
        },
        "outputId": "a377cd55-2313-403c-cc7f-7bdbb07fc7df"
      },
      "execution_count": 11,
      "outputs": [
        {
          "output_type": "stream",
          "name": "stdout",
          "text": [
            "text_as_int length: 1143721\n",
            "'the beauty of your escaping soul' --> array([54, 42, 39,  3, 36, 39, 35, 55, 54, 59,  3, 49, 40,  3, 59, 49, 55,\n",
            "       52,  3, 39, 53, 37, 35, 50, 43, 48, 41,  3, 53, 49, 55, 46])\n"
          ]
        }
      ]
    },
    {
      "cell_type": "markdown",
      "source": [
        "## Create training sequences"
      ],
      "metadata": {
        "id": "lQVux07S2LlN"
      }
    },
    {
      "cell_type": "code",
      "source": [
        "seq_length = 50\n",
        "step = 1\n",
        "sentences = []\n",
        "next_chars = []\n",
        "\n",
        "for i in range(0, len(random_text) - seq_length, step):\n",
        "  sentences.append(random_text[i:i+seq_length])\n",
        "  next_chars.append(random_text[i+seq_length]) #Next character\n",
        "\n",
        "senteces = np.array(sentences)\n",
        "next_chars= np.array(next_chars)\n",
        "\n",
        "\n",
        "#Print Sentence Window and next charaters\n",
        "print('Sentence Window')\n",
        "print (sentences[:5])\n",
        "print('Target charaters')\n",
        "print (next_chars[:5])\n",
        "print('Number of sequences:', len(sentences))"
      ],
      "metadata": {
        "id": "nmSyEX0F2OG2",
        "colab": {
          "base_uri": "https://localhost:8080/"
        },
        "outputId": "f6a2d27b-ee3e-4e04-e79c-3c23723ddf73"
      },
      "execution_count": 12,
      "outputs": [
        {
          "output_type": "stream",
          "name": "stdout",
          "text": [
            "Sentence Window\n",
            "['the beauty of your escaping soul\\r\\nbehold my true d', 'he beauty of your escaping soul\\r\\nbehold my true di', 'e beauty of your escaping soul\\r\\nbehold my true dis', ' beauty of your escaping soul\\r\\nbehold my true dist', 'beauty of your escaping soul\\r\\nbehold my true distr']\n",
            "Target charaters\n",
            "['i' 's' 't' 'r' 'e']\n",
            "Number of sequences: 1143671\n"
          ]
        }
      ]
    },
    {
      "cell_type": "code",
      "source": [
        "def getdata(sentences, next_chars):\n",
        "    X = np.zeros((len(sentences),seq_length))\n",
        "    y = np.zeros((len(sentences)))\n",
        "    length = len(sentences)\n",
        "    index = 0\n",
        "    for i in range(len(sentences)):\n",
        "        sentence = sentences[i]\n",
        "        for t, char in enumerate(sentence):\n",
        "            X[i, t] = char2index[char] #각 행의 문자열을 인덱스로 바꿔주기\n",
        "        y[i] = char2index[next_chars[i]]\n",
        "    return X, y"
      ],
      "metadata": {
        "id": "i9OxqoOQ2Sq_"
      },
      "execution_count": 13,
      "outputs": []
    },
    {
      "cell_type": "code",
      "source": [
        "train_x,train_y = getdata(sentences, next_chars)\n",
        "print('Shape of training_x:', train_x.shape)\n",
        "print('Shape of training_y:', train_y.shape)"
      ],
      "metadata": {
        "id": "V1F2Nb9b2UlX",
        "colab": {
          "base_uri": "https://localhost:8080/"
        },
        "outputId": "7750872f-a723-40cb-b5b2-baa34a4b2ac4"
      },
      "execution_count": 14,
      "outputs": [
        {
          "output_type": "stream",
          "name": "stdout",
          "text": [
            "Shape of training_x: (1143671, 50)\n",
            "Shape of training_y: (1143671,)\n"
          ]
        }
      ]
    },
    {
      "cell_type": "markdown",
      "source": [
        "##Build the Model(Pytorch)\n",
        "## 추과 과제 1 : 아래 빈 곳을 채워주세요!\n",
        "- Embedding layer : transfer index to embedding vector\n",
        "- Simple LSTM + dropout : Sequence data to hidden states , dropout for prevent overfitting\n",
        "- Fully connection layer : linear tranfer to a n_vocab vector to be output layer.  \n",
        "we don't need to do softmax here, we will do it when we calculate loss function"
      ],
      "metadata": {
        "id": "MYsqkk1Z2aMT"
      }
    },
    {
      "cell_type": "code",
      "source": [
        "import torch\n",
        "import torch.nn as nn\n",
        "import torch.nn.functional as F\n",
        "import torch.optim as optim\n",
        "from torch.autograd import Variable\n",
        "\n",
        "class Simple_LSTM(nn.Module):\n",
        "    def __init__(self,n_vocab,hidden_dim, embedding_dim,dropout = 0.2):\n",
        "        super(Simple_LSTM, self).__init__()\n",
        "        ##################################################################\n",
        "        # TODO: 주석, ________ 부분 지우고 답안 작성해주세요.\n",
        "        #\n",
        "        # Hint: 위에 embedding layer, simple LSTM + dropout, fully connected layer 설명 부분을 읽고 채워주시면 됩니다.\n",
        "        #\n",
        "        ##################################################################\n",
        "        self.hidden_dim = hidden_dim\n",
        "        self.embedding_dim= embedding_dim\n",
        "        self.lstm = nn.LSTM(input_size = embedding_dim,hidden_size = self.hidden_dim,dropout = dropout,num_layers = 2)\n",
        "        self.embeddings = nn.Embedding(n_vocab, self.embedding_dim)\n",
        "        self.fc = nn.Linear(self.hidden_dim, n_vocab)\n",
        "        ##################################################################\n",
        "        #                         END OF YOUR CODE                       #\n",
        "        ##################################################################\n",
        "\n",
        "    def forward(self, seq_in):\n",
        "        # for LSTM, input should be (Sequnce_length,batchsize,hidden_layer), so we need to transpose the input\n",
        "        embedded = self.embeddings(seq_in.t())\n",
        "        lstm_out, _ = self.lstm(embedded)\n",
        "        # Only need to keep the last character\n",
        "        ht=lstm_out[-1]\n",
        "        out = self.fc(ht)\n",
        "        return out"
      ],
      "metadata": {
        "id": "9-izwsvq2bMS"
      },
      "execution_count": 15,
      "outputs": []
    },
    {
      "cell_type": "markdown",
      "source": [
        "## Create DataLoader of mini-batch training\n",
        "Use GPU to training"
      ],
      "metadata": {
        "id": "HsBNZmn72has"
      }
    },
    {
      "cell_type": "code",
      "source": [
        "X_train_tensor = torch.tensor(train_x, dtype=torch.long).cuda()\n",
        "Y_train_tensor = torch.tensor(train_y, dtype=torch.long).cuda()"
      ],
      "metadata": {
        "id": "oxniKXkX2kMY"
      },
      "execution_count": 16,
      "outputs": []
    },
    {
      "cell_type": "code",
      "source": [
        "from torch.utils.data import Dataset, DataLoader\n",
        "train = torch.utils.data.TensorDataset(X_train_tensor,Y_train_tensor)\n",
        "train_loader = torch.utils.data.DataLoader(train, batch_size = 128) #batch_size 자유롭게 바꿔주세요"
      ],
      "metadata": {
        "id": "LHQTDkkI2m_X"
      },
      "execution_count": 17,
      "outputs": []
    },
    {
      "cell_type": "markdown",
      "source": [
        "##Start training\n",
        "- Hidden_size : 256\n",
        "- Embedding_size : 256\n",
        "- Use Adam optimizer(변경 가능)"
      ],
      "metadata": {
        "id": "39856I6b2rna"
      }
    },
    {
      "cell_type": "code",
      "source": [
        "model = Simple_LSTM(63,256,256)\n",
        "model.cuda()\n",
        "optimizer = torch.optim.AdamW(model.parameters(), lr = 0.001) # optimizer 자유롭게 바꿔주세요\n",
        "scheduler = optim.lr_scheduler.StepLR(optimizer, step_size = 10, gamma = 0.05)\n",
        "#optimizer = torch.optim.SGD(model.parameters(), lr = 0.002, momentum = 0.9)"
      ],
      "metadata": {
        "id": "lctdA0O52tYl"
      },
      "execution_count": 18,
      "outputs": []
    },
    {
      "cell_type": "code",
      "source": [
        "import time # Add time counter\n",
        "avg_losses_f = []\n",
        "n_epochs=20\n",
        "\n",
        "for epoch in range(n_epochs):\n",
        "    start_time = time.time()\n",
        "    model.train()\n",
        "    loss_fn = torch.nn.CrossEntropyLoss()\n",
        "    avg_loss = 0.\n",
        "    for i, (x_batch, y_batch) in enumerate(train_loader):\n",
        "        y_pred = model(x_batch)\n",
        "\n",
        "        loss = loss_fn(y_pred, y_batch)\n",
        "        optimizer.zero_grad()\n",
        "        loss.backward()\n",
        "\n",
        "        optimizer.step()\n",
        "        avg_loss+= loss.item()/len(train_loader)\n",
        "    elapsed_time = time.time() - start_time\n",
        "    print('Epoch {}/{} \\t loss={:.4f} \\t time={:.2f}s'.format(\n",
        "        epoch + 1, n_epochs, avg_loss, elapsed_time))\n",
        "\n",
        "    avg_losses_f.append(avg_loss)\n",
        "\n",
        "    scheduler.step()\n",
        "\n",
        "print('All \\t loss={:.4f} \\t '.format(np.average(avg_losses_f)))"
      ],
      "metadata": {
        "id": "VCyrqWdB21Cf",
        "colab": {
          "base_uri": "https://localhost:8080/",
          "height": 653
        },
        "outputId": "bc9ff9ce-1c9d-4d47-a2ab-eade1a980c9d"
      },
      "execution_count": 19,
      "outputs": [
        {
          "output_type": "stream",
          "name": "stdout",
          "text": [
            "Epoch 1/20 \t loss=1.6962 \t time=155.14s\n",
            "Epoch 2/20 \t loss=1.4814 \t time=158.46s\n",
            "Epoch 3/20 \t loss=1.4076 \t time=157.98s\n",
            "Epoch 4/20 \t loss=1.3629 \t time=158.13s\n",
            "Epoch 5/20 \t loss=1.3323 \t time=157.99s\n",
            "Epoch 6/20 \t loss=1.3081 \t time=158.19s\n",
            "Epoch 7/20 \t loss=1.2887 \t time=157.72s\n",
            "Epoch 8/20 \t loss=1.2714 \t time=158.48s\n",
            "Epoch 9/20 \t loss=1.2574 \t time=157.97s\n",
            "Epoch 10/20 \t loss=1.2430 \t time=157.98s\n",
            "Epoch 11/20 \t loss=1.2077 \t time=158.08s\n",
            "Epoch 12/20 \t loss=1.1747 \t time=157.81s\n",
            "Epoch 13/20 \t loss=1.1602 \t time=157.98s\n"
          ]
        },
        {
          "output_type": "error",
          "ename": "KeyboardInterrupt",
          "evalue": "",
          "traceback": [
            "\u001b[0;31m---------------------------------------------------------------------------\u001b[0m",
            "\u001b[0;31mKeyboardInterrupt\u001b[0m                         Traceback (most recent call last)",
            "\u001b[0;32m<ipython-input-19-ec97d6ff9b1b>\u001b[0m in \u001b[0;36m<cell line: 5>\u001b[0;34m()\u001b[0m\n\u001b[1;32m     13\u001b[0m         \u001b[0mloss\u001b[0m \u001b[0;34m=\u001b[0m \u001b[0mloss_fn\u001b[0m\u001b[0;34m(\u001b[0m\u001b[0my_pred\u001b[0m\u001b[0;34m,\u001b[0m \u001b[0my_batch\u001b[0m\u001b[0;34m)\u001b[0m\u001b[0;34m\u001b[0m\u001b[0;34m\u001b[0m\u001b[0m\n\u001b[1;32m     14\u001b[0m         \u001b[0moptimizer\u001b[0m\u001b[0;34m.\u001b[0m\u001b[0mzero_grad\u001b[0m\u001b[0;34m(\u001b[0m\u001b[0;34m)\u001b[0m\u001b[0;34m\u001b[0m\u001b[0;34m\u001b[0m\u001b[0m\n\u001b[0;32m---> 15\u001b[0;31m         \u001b[0mloss\u001b[0m\u001b[0;34m.\u001b[0m\u001b[0mbackward\u001b[0m\u001b[0;34m(\u001b[0m\u001b[0;34m)\u001b[0m\u001b[0;34m\u001b[0m\u001b[0;34m\u001b[0m\u001b[0m\n\u001b[0m\u001b[1;32m     16\u001b[0m \u001b[0;34m\u001b[0m\u001b[0m\n\u001b[1;32m     17\u001b[0m         \u001b[0moptimizer\u001b[0m\u001b[0;34m.\u001b[0m\u001b[0mstep\u001b[0m\u001b[0;34m(\u001b[0m\u001b[0;34m)\u001b[0m\u001b[0;34m\u001b[0m\u001b[0;34m\u001b[0m\u001b[0m\n",
            "\u001b[0;32m/usr/local/lib/python3.10/dist-packages/torch/_tensor.py\u001b[0m in \u001b[0;36mbackward\u001b[0;34m(self, gradient, retain_graph, create_graph, inputs)\u001b[0m\n\u001b[1;32m    490\u001b[0m                 \u001b[0minputs\u001b[0m\u001b[0;34m=\u001b[0m\u001b[0minputs\u001b[0m\u001b[0;34m,\u001b[0m\u001b[0;34m\u001b[0m\u001b[0;34m\u001b[0m\u001b[0m\n\u001b[1;32m    491\u001b[0m             )\n\u001b[0;32m--> 492\u001b[0;31m         torch.autograd.backward(\n\u001b[0m\u001b[1;32m    493\u001b[0m             \u001b[0mself\u001b[0m\u001b[0;34m,\u001b[0m \u001b[0mgradient\u001b[0m\u001b[0;34m,\u001b[0m \u001b[0mretain_graph\u001b[0m\u001b[0;34m,\u001b[0m \u001b[0mcreate_graph\u001b[0m\u001b[0;34m,\u001b[0m \u001b[0minputs\u001b[0m\u001b[0;34m=\u001b[0m\u001b[0minputs\u001b[0m\u001b[0;34m\u001b[0m\u001b[0;34m\u001b[0m\u001b[0m\n\u001b[1;32m    494\u001b[0m         )\n",
            "\u001b[0;32m/usr/local/lib/python3.10/dist-packages/torch/autograd/__init__.py\u001b[0m in \u001b[0;36mbackward\u001b[0;34m(tensors, grad_tensors, retain_graph, create_graph, grad_variables, inputs)\u001b[0m\n\u001b[1;32m    249\u001b[0m     \u001b[0;31m# some Python versions print out the first line of a multi-line function\u001b[0m\u001b[0;34m\u001b[0m\u001b[0;34m\u001b[0m\u001b[0m\n\u001b[1;32m    250\u001b[0m     \u001b[0;31m# calls in the traceback and some print out the last line\u001b[0m\u001b[0;34m\u001b[0m\u001b[0;34m\u001b[0m\u001b[0m\n\u001b[0;32m--> 251\u001b[0;31m     Variable._execution_engine.run_backward(  # Calls into the C++ engine to run the backward pass\n\u001b[0m\u001b[1;32m    252\u001b[0m         \u001b[0mtensors\u001b[0m\u001b[0;34m,\u001b[0m\u001b[0;34m\u001b[0m\u001b[0;34m\u001b[0m\u001b[0m\n\u001b[1;32m    253\u001b[0m         \u001b[0mgrad_tensors_\u001b[0m\u001b[0;34m,\u001b[0m\u001b[0;34m\u001b[0m\u001b[0;34m\u001b[0m\u001b[0m\n",
            "\u001b[0;31mKeyboardInterrupt\u001b[0m: "
          ]
        }
      ]
    },
    {
      "cell_type": "markdown",
      "source": [
        "##결과 도식화"
      ],
      "metadata": {
        "id": "f_Na3v8B3L2Q"
      }
    },
    {
      "cell_type": "code",
      "source": [
        "import matplotlib.pyplot as plt\n",
        "\n",
        "plt.plot(avg_losses_f)\n",
        "plt.xlabel('Epoch')\n",
        "plt.ylabel('Loss value')\n",
        "plt.show()"
      ],
      "metadata": {
        "id": "mIJh9gNm3M3e",
        "colab": {
          "base_uri": "https://localhost:8080/",
          "height": 449
        },
        "outputId": "85f264ce-4bc5-4386-b251-dcd20e96ad95"
      },
      "execution_count": 20,
      "outputs": [
        {
          "output_type": "display_data",
          "data": {
            "text/plain": [
              "<Figure size 640x480 with 1 Axes>"
            ],
            "image/png": "[encoded data removed]"
          },
          "metadata": {}
        }
      ]
    },
    {
      "cell_type": "markdown",
      "source": [
        "##Create the function that can sample an index from a probability array\n",
        "- This function is to prevent the most likely chracter always be chosen."
      ],
      "metadata": {
        "id": "FPqcB6qq3WhR"
      }
    },
    {
      "cell_type": "code",
      "source": [
        "def sample(preds, temperature=1.0):\n",
        "    preds = np.asarray(preds).astype('float64')\n",
        "    preds = np.log(preds) / temperature\n",
        "    exp_preds = np.exp(preds)\n",
        "    preds = exp_preds / np.sum(exp_preds)\n",
        "    probas = np.random.multinomial(1, preds, 1)\n",
        "    return np.argmax(probas)"
      ],
      "metadata": {
        "id": "iNTk5dkY3XV5"
      },
      "execution_count": 21,
      "outputs": []
    },
    {
      "cell_type": "markdown",
      "source": [
        "## Validate the model\n",
        "- Define the 50 start sentence legth (앞에 seq_lenth 바꾸면 sentence length 바꾸기 가능)\n",
        "- Predict next char\n",
        "- Total create 400 characters lyrics"
      ],
      "metadata": {
        "id": "O37RYi4v3a_c"
      }
    },
    {
      "cell_type": "code",
      "source": [
        "# Define the start sentence\n",
        "sentence = 'i read in the book\\nthat the joyful man\\nplease kno'\n",
        "variance = 0.25\n",
        "generated = ''\n",
        "original = sentence\n",
        "window = sentence\n",
        "\n",
        "for i in range(400):\n",
        "    x = np.zeros((1, seq_length))\n",
        "    for t, char in enumerate(window):\n",
        "        x[0, t] = char2index[char] # Change the sentence to index vector shape (1,50)\n",
        "\n",
        "    x_in = Variable(torch.LongTensor(x).cuda())\n",
        "    pred = model(x_in)\n",
        "    pred = np.array(F.softmax(pred, dim=1).data[0].cpu())\n",
        "    next_index = sample(pred, variance)\n",
        "    next_char = index2char[next_index] # index to char\n",
        "\n",
        "    generated += next_char\n",
        "    window = window[1:] + next_char # Update Window for next char predict\n",
        "\n",
        "print(original + generated)"
      ],
      "metadata": {
        "id": "lsCmCcii3iJB",
        "colab": {
          "base_uri": "https://localhost:8080/"
        },
        "outputId": "d8a53ea7-cace-418f-96c3-c01033c56239"
      },
      "execution_count": 22,
      "outputs": [
        {
          "output_type": "stream",
          "name": "stdout",
          "text": [
            "i read in the book\n",
            "that the joyful man\n",
            "please knoi rda aa i i o\n",
            "ud rm utl h ppaa\n",
            "ri i u o i o\n",
            "avi i ol o.\n",
            "o ru  ud i udrnru i\n",
            "h rigi h rigi h i i ol i oh adraret\n",
            "hrit h n rpanse i ol i o\n",
            "hl ar i of i udritie i ocoa atae i ol adre h\ra o i ol ada aa\rya i ol h rpa\ra i i o\re i i oh\rhadah\r\roaao\raa\raa\raadre\ra\r\r\ri ar i i i i ol i i ol i od\rwl-e econr-..\r\r\r\r\r\r\r\r\r\r\ri e a i oh i i o\rur i ol adanaa\raaaaaaaaaaaaaa!aaaaaa\n",
            "hin r ata-in rigs i i i i o? i ol ad\n"
          ]
        }
      ]
    },
    {
      "cell_type": "markdown",
      "source": [
        "추가과제 -2\n",
        "## Pytorch로 RNN 구현해보기"
      ],
      "metadata": {
        "id": "FI5iJ0qr9nFd"
      }
    },
    {
      "cell_type": "markdown",
      "source": [
        "## 1. RNN 구현\n",
        "Pytorch로 neural network 모델을 구현할 때에는 `nn.Module`을 상속받아서 구현하게 됩니다.\n",
        "\n",
        "### [참고] 객체지향 개념을 잘 모른다면?\n",
        "객체지향 개념을 잘 모르신다면 <b>상속</b>이란 상속을 받은 클래스 (여기서는 CustomRNN)가 부모 클래스 (`nn.Module`)의 멤버 변수와 메소드를 그대로 넘겨받아 필요에 맞게 재정의하거나 기타 필요한 기능들을 추가해서 사용하는 행위로 쉽게 이해하시면 됩니다. 이를 통해 코드의 중복도를 낮추고 보다 효율적인 설계를 할 수 있습니다.\n",
        "\n",
        "예를 들어서 `nn.Module` 클래스를 상속받아 만든 모든 클래스들은 `__init()__` 생성자와 `forward()` 메소드를 구현함으로써 모든 neural network가 high level에서는 동일한 동작을 함을 보장할 수 있습니다.\n",
        "\n",
        "만약 상속 기능을 사용하지 않는다면 모델을 training하는 코드, inference를 하는 코드 등을 neural network 종류마다 새로 짜야 하므로 복잡해집니다.\n",
        "\n",
        "### 구현 관련 배경지식\n",
        "`nn.Module` 클래스를 상속받으면 `__init__()` 생성자와 `forward()` 메소드를 구현해야 합니다. 생성자에서는 모델에서 사용할 기본적인 멤버 변수들을 초기화하게 됩니다. 여기서 멤버 변수로는 크게 두 가지가 있습니다.\n",
        "1. 모델 아키텍쳐와 관련된 dimension들 (각각의 의미는 발제 PPT 참고)\n",
        " - Input vector의 길이\n",
        " - Hidden layer의 길이\n",
        " - Output vector의 길이\n",
        " - Batch size\n",
        "\n",
        "\n",
        "2. 모델에서 사용될 layer들\n",
        " - Pytorch의 `nn` module에서는 neural network에서 사용되는 다양한 layer를 미리 구현해 두었습니다. Convolution layer, pooling layer, linear layer 등이 정의되어 있어서 복잡한 연산을 직접 구현할 필요가 없습니다. 본 과제에서는 해당 layer를 쌓아서 RNN을 구현한다고 보시면 됩니다.\n",
        " - 본 과제에서는 Linear layer만 활용하면 됩니다. 이는 MLP 세션에서 배운 fully connected layer와 같습니다. FC layer이므로 input, output의 size와 bias 사용 유무만 정의해주면 됩니다. https://pytorch.org/docs/stable/generated/torch.nn.Linear.html#torch.nn.Linear\n",
        "\n",
        "\n",
        "생성자를 정의했으면 `forward()` 함수를 정의할 차례입니다. `forward()` 메소드가 모델 구현에서 핵심입니다. 이 메소드는 모델에 input data를 집어넣으면 자동으로 호출되고 argument로 input이 전달됩니다. 앞서 정의한 layer들을 잘 호출해서 메소드를 구현하시면 됩니다.\n",
        "\n",
        "\n",
        "*Backward pass는 모델 train을 할 때 `backward()`가 알아서 해주기 때문에 `forward()`만 정의하는 것입니다."
      ],
      "metadata": {
        "id": "Smp0bv5T9KDV"
      }
    },
    {
      "cell_type": "code",
      "source": [
        "import numpy as np\n",
        "import random\n",
        "import torch\n",
        "import torch.nn as nn\n",
        "import torch.optim as optim\n",
        "from torch.utils.data import Dataset, DataLoader"
      ],
      "metadata": {
        "id": "dDbl35zl95nQ"
      },
      "execution_count": null,
      "outputs": []
    },
    {
      "cell_type": "code",
      "source": [
        "# nn.Module을 상속받아서 CustomRNN class 정의\n",
        "\n",
        "class CustomRNN(nn.Module):\n",
        "    \"\"\"\n",
        "    RNN basic block\n",
        "    \"\"\"\n",
        "    def __init__(self, input_size, hidden_size, output_size):\n",
        "        \"\"\"\n",
        "        input_size: Input vector 길이\n",
        "        hidden_size: Hidden state vector 길이\n",
        "        output_size: Output vector 길이\n",
        "        \"\"\"\n",
        "        super().__init__()\n",
        "        self.input_size = input_size\n",
        "        self.hidden_size = hidden_size\n",
        "        self.output_size = output_size\n",
        "\n",
        "        self.W_xh = nn.Linear(input_size, hidden_size, bias=False)\n",
        "        ##################################################################\n",
        "        # TODO: 필요한 멤버 변수 2개를 추가로 정의하세요.\n",
        "        #\n",
        "        # 1. W_hh: hidden layer vector에 곱해지는 weight\n",
        "        # 2. W_hy: hidden layer로 output을 생성할 때 곱해지는 weight\n",
        "        #\n",
        "        # Hint: 위의 self.W_xh 코드를 참고하세요.\n",
        "        #\n",
        "        ##################################################################\n",
        "        # 아래 주석 해제 후 정의하시면 됩니다. bias는 둘 다 True로 해주세요.\n",
        "        self.W_hh = nn.Linear(hidden_size, hidden_size, bias = True)\n",
        "        self.W_hy = nn.Linear(hidden_size, output_size, bias = True)\n",
        "        ##################################################################\n",
        "        #                         END OF YOUR CODE                       #\n",
        "        ##################################################################\n",
        "\n",
        "    def forward(self, x, hidden_state):\n",
        "        W_xh_x = self.W_xh(x)  # W_xh weight에 input x를 곱해준 결과\n",
        "        ##################################################################\n",
        "        # TODO: Forward pass를 계산하는 코드를 추가하세요.\n",
        "        #\n",
        "        ########################### 전체 과정 ##############################\n",
        "        #\n",
        "        # 1. W_xh와 input을 곱한다.\n",
        "        # 2. W_hh와 {t - 1} 시점에서의 hidden state vector를 곱한다.\n",
        "        # 3. 둘이 더한다.\n",
        "        # 4. tanh를 통과시켜서 새로운 hidden state를 만들어낸다.\n",
        "        # 5. W_hy와 새로운 hidden state를 곱해서 output을 만들어낸다.\n",
        "        # 6. output과 새로운 hidden state를 return한다.\n",
        "        #\n",
        "        # Hint: torch.tanh\n",
        "        #\n",
        "        ##################################################################\n",
        "        # 아래 주석 해제 후 추가하시면 됩니다.\n",
        "        W_hh_x = self.W_hh(hidden_state)\n",
        "        hidden_state =torch.tanh(W_xh_x + W_hh_x)\n",
        "        output = self.W_hy(hidden_state)\n",
        "        ##################################################################\n",
        "        #                         END OF YOUR CODE                       #\n",
        "        ##################################################################\n",
        "        # 아래 주석도 해제하세요.\n",
        "        return output, hidden_state"
      ],
      "metadata": {
        "id": "N2YsSoYG98Lh"
      },
      "execution_count": null,
      "outputs": []
    },
    {
      "cell_type": "code",
      "source": [
        "#Correct! 가 나오면 정답!\n",
        "model = CustomRNN(5, 6, 7)\n",
        "model_str = str(model).splitlines()\n",
        "import numpy\n",
        "stack = []\n",
        "for i in range(1, 4):\n",
        "    stack.append(int(model_str[i][29]))\n",
        "    stack.append(int(model_str[i][45]))\n",
        "\n",
        "prod = numpy.prod(stack)\n",
        "\n",
        "if prod == 45360:\n",
        "    print(\"Correct!!!\")\n",
        "else:\n",
        "    print(\"Incorrect...\")"
      ],
      "metadata": {
        "id": "ePzKcHO--CoE",
        "colab": {
          "base_uri": "https://localhost:8080/"
        },
        "outputId": "7c0c9a20-2fca-40a1-b00b-ee10381bf588"
      },
      "execution_count": null,
      "outputs": [
        {
          "output_type": "stream",
          "name": "stdout",
          "text": [
            "Correct!!!\n"
          ]
        }
      ]
    },
    {
      "cell_type": "code",
      "source": [],
      "metadata": {
        "id": "rygwaztR1VZ4"
      },
      "execution_count": null,
      "outputs": []
    }
  ]
}