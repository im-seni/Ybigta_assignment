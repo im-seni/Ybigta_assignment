{
 "cells": [
  {
   "cell_type": "markdown",
   "metadata": {
    "id": "x0yoa3uTfcoz"
   },
   "source": [
    "# EDA_FE 과제\n",
    "#### <font color='orange'> - 약간 매운맛"
   ]
  },
  {
   "cell_type": "markdown",
   "metadata": {
    "id": "PfuUHX59fco0"
   },
   "source": [
    "by YBIGTA 16기 DA Team 김지환"
   ]
  },
  {
   "cell_type": "markdown",
   "metadata": {
    "id": "vfK2PJbOfco1"
   },
   "source": [
    "<img src='https://i.imgur.com/cqdVyfs.jpg'>\n",
    "\n",
    "\n",
    "---\n",
    "여러분은 Airbnb 런던 지사의 데이터 분석가입니다.\n",
    "\n",
    "이번에 호스트들에게 적정한 방 가격을 책정해주는 프로젝트를 진행할 예정입니다.\n",
    "\n",
    "이를 위해 기존에 런던에 있던 Airbnb 방 데이터를 분석할 것입니다.\n",
    "\n",
    "각 문제에 대해 적절한 코드 혹은 답변을 제시해보세요.\n",
    "\n",
    "---"
   ]
  },
  {
   "cell_type": "code",
   "execution_count": 3,
   "metadata": {
    "id": "tROG2Acf2eKM"
   },
   "outputs": [],
   "source": [
    "import pandas as pd\n",
    "import numpy as np\n",
    "import matplotlib.pyplot as plt\n",
    "%matplotlib inline\n",
    "# notebook을 실행한 브라우저에서 바로 그림을 볼 수 있게 해주는 코드. 버전에 따라 필요 없을 수도 있습니다.\n",
    "import seaborn as sns"
   ]
  },
  {
   "cell_type": "code",
   "execution_count": null,
   "metadata": {
    "colab": {
     "base_uri": "https://localhost:8080/"
    },
    "executionInfo": {
     "elapsed": 2120,
     "status": "ok",
     "timestamp": 1705297855716,
     "user": {
      "displayName": "박동연(인공지능융합대학 컴퓨터과학과)",
      "userId": "08690269982773200470"
     },
     "user_tz": -540
    },
    "id": "MVJ_6x-c5z5D",
    "outputId": "ff90757c-c1aa-48cc-bb9e-a57d33c26755"
   },
   "outputs": [
    {
     "name": "stdout",
     "output_type": "stream",
     "text": [
      "Drive already mounted at /content/drive; to attempt to forcibly remount, call drive.mount(\"/content/drive\", force_remount=True).\n"
     ]
    }
   ],
   "source": [
    "from google.colab import drive\n",
    "drive.mount('/content/drive')"
   ]
  },
  {
   "cell_type": "code",
   "execution_count": 5,
   "metadata": {
    "id": "Ay_oqYuW2eKP"
   },
   "outputs": [
    {
     "name": "stderr",
     "output_type": "stream",
     "text": [
      "C:\\Users\\visma\\AppData\\Local\\Temp\\ipykernel_13124\\577296706.py:1: DtypeWarning: Columns (25,26,47) have mixed types. Specify dtype option on import or set low_memory=False.\n",
      "  df = pd.read_csv('airbnb_listings.csv', index_col=0)\n"
     ]
    }
   ],
   "source": [
    "df = pd.read_csv('airbnb_listings.csv', index_col=0)"
   ]
  },
  {
   "cell_type": "markdown",
   "metadata": {
    "id": "PJLnjOfZfco8"
   },
   "source": [
    "# EDA"
   ]
  },
  {
   "cell_type": "markdown",
   "metadata": {
    "id": "W4Bydfl-fco9"
   },
   "source": [
    "### 1) 전체 데이터 확인"
   ]
  },
  {
   "cell_type": "markdown",
   "metadata": {
    "id": "E3dSDYVGfco9"
   },
   "source": [
    "- #### <font color='orange'> Q1. 상위 5개의 데이터를 확인해보세요. 컬럼 수가 많으니 모든 컬럼을 표시하도록 조정하세요. </font>"
   ]
  },
  {
   "cell_type": "code",
   "execution_count": 6,
   "metadata": {},
   "outputs": [
    {
     "data": {
      "text/html": [
       "<div>\n",
       "<style scoped>\n",
       "    .dataframe tbody tr th:only-of-type {\n",
       "        vertical-align: middle;\n",
       "    }\n",
       "\n",
       "    .dataframe tbody tr th {\n",
       "        vertical-align: top;\n",
       "    }\n",
       "\n",
       "    .dataframe thead th {\n",
       "        text-align: right;\n",
       "    }\n",
       "</style>\n",
       "<table border=\"1\" class=\"dataframe\">\n",
       "  <thead>\n",
       "    <tr style=\"text-align: right;\">\n",
       "      <th></th>\n",
       "      <th>id</th>\n",
       "      <th>host_response_time</th>\n",
       "      <th>host_response_rate</th>\n",
       "      <th>host_acceptance_rate</th>\n",
       "      <th>host_is_superhost</th>\n",
       "      <th>host_listings_count</th>\n",
       "      <th>host_total_listings_count</th>\n",
       "      <th>host_verifications</th>\n",
       "      <th>host_has_profile_pic</th>\n",
       "      <th>host_identity_verified</th>\n",
       "      <th>...</th>\n",
       "      <th>review_scores_value</th>\n",
       "      <th>requires_license</th>\n",
       "      <th>license</th>\n",
       "      <th>jurisdiction_names</th>\n",
       "      <th>instant_bookable</th>\n",
       "      <th>is_business_travel_ready</th>\n",
       "      <th>cancellation_policy</th>\n",
       "      <th>require_guest_profile_picture</th>\n",
       "      <th>require_guest_phone_verification</th>\n",
       "      <th>reviews_per_month</th>\n",
       "    </tr>\n",
       "  </thead>\n",
       "  <tbody>\n",
       "    <tr>\n",
       "      <th>0</th>\n",
       "      <td>2060</td>\n",
       "      <td>a few days or more</td>\n",
       "      <td>22%</td>\n",
       "      <td>50%</td>\n",
       "      <td>f</td>\n",
       "      <td>0.0</td>\n",
       "      <td>0.0</td>\n",
       "      <td>['reviews']</td>\n",
       "      <td>t</td>\n",
       "      <td>f</td>\n",
       "      <td>...</td>\n",
       "      <td>NaN</td>\n",
       "      <td>f</td>\n",
       "      <td>NaN</td>\n",
       "      <td>NaN</td>\n",
       "      <td>f</td>\n",
       "      <td>f</td>\n",
       "      <td>flexible</td>\n",
       "      <td>f</td>\n",
       "      <td>f</td>\n",
       "      <td>0.01</td>\n",
       "    </tr>\n",
       "    <tr>\n",
       "      <th>1</th>\n",
       "      <td>2595</td>\n",
       "      <td>within a day</td>\n",
       "      <td>87%</td>\n",
       "      <td>38%</td>\n",
       "      <td>f</td>\n",
       "      <td>6.0</td>\n",
       "      <td>6.0</td>\n",
       "      <td>['email', 'phone', 'reviews', 'offline_governm...</td>\n",
       "      <td>t</td>\n",
       "      <td>t</td>\n",
       "      <td>...</td>\n",
       "      <td>9.0</td>\n",
       "      <td>f</td>\n",
       "      <td>NaN</td>\n",
       "      <td>NaN</td>\n",
       "      <td>f</td>\n",
       "      <td>f</td>\n",
       "      <td>strict_14_with_grace_period</td>\n",
       "      <td>t</td>\n",
       "      <td>t</td>\n",
       "      <td>0.38</td>\n",
       "    </tr>\n",
       "    <tr>\n",
       "      <th>2</th>\n",
       "      <td>3831</td>\n",
       "      <td>within an hour</td>\n",
       "      <td>83%</td>\n",
       "      <td>96%</td>\n",
       "      <td>f</td>\n",
       "      <td>1.0</td>\n",
       "      <td>1.0</td>\n",
       "      <td>['email', 'phone', 'reviews', 'kba']</td>\n",
       "      <td>t</td>\n",
       "      <td>t</td>\n",
       "      <td>...</td>\n",
       "      <td>8.0</td>\n",
       "      <td>f</td>\n",
       "      <td>NaN</td>\n",
       "      <td>NaN</td>\n",
       "      <td>f</td>\n",
       "      <td>f</td>\n",
       "      <td>moderate</td>\n",
       "      <td>f</td>\n",
       "      <td>f</td>\n",
       "      <td>4.71</td>\n",
       "    </tr>\n",
       "    <tr>\n",
       "      <th>3</th>\n",
       "      <td>5099</td>\n",
       "      <td>NaN</td>\n",
       "      <td>NaN</td>\n",
       "      <td>71%</td>\n",
       "      <td>f</td>\n",
       "      <td>1.0</td>\n",
       "      <td>1.0</td>\n",
       "      <td>['email', 'phone', 'reviews', 'jumio', 'govern...</td>\n",
       "      <td>t</td>\n",
       "      <td>f</td>\n",
       "      <td>...</td>\n",
       "      <td>9.0</td>\n",
       "      <td>f</td>\n",
       "      <td>NaN</td>\n",
       "      <td>NaN</td>\n",
       "      <td>f</td>\n",
       "      <td>f</td>\n",
       "      <td>moderate</td>\n",
       "      <td>t</td>\n",
       "      <td>t</td>\n",
       "      <td>0.59</td>\n",
       "    </tr>\n",
       "    <tr>\n",
       "      <th>4</th>\n",
       "      <td>5114</td>\n",
       "      <td>within a day</td>\n",
       "      <td>50%</td>\n",
       "      <td>NaN</td>\n",
       "      <td>f</td>\n",
       "      <td>3.0</td>\n",
       "      <td>3.0</td>\n",
       "      <td>['email', 'phone', 'reviews']</td>\n",
       "      <td>t</td>\n",
       "      <td>f</td>\n",
       "      <td>...</td>\n",
       "      <td>10.0</td>\n",
       "      <td>f</td>\n",
       "      <td>NaN</td>\n",
       "      <td>NaN</td>\n",
       "      <td>f</td>\n",
       "      <td>f</td>\n",
       "      <td>strict_14_with_grace_period</td>\n",
       "      <td>f</td>\n",
       "      <td>f</td>\n",
       "      <td>0.56</td>\n",
       "    </tr>\n",
       "  </tbody>\n",
       "</table>\n",
       "<p>5 rows × 54 columns</p>\n",
       "</div>"
      ],
      "text/plain": [
       "     id  host_response_time host_response_rate host_acceptance_rate  \\\n",
       "0  2060  a few days or more                22%                  50%   \n",
       "1  2595        within a day                87%                  38%   \n",
       "2  3831      within an hour                83%                  96%   \n",
       "3  5099                 NaN                NaN                  71%   \n",
       "4  5114        within a day                50%                  NaN   \n",
       "\n",
       "  host_is_superhost  host_listings_count  host_total_listings_count  \\\n",
       "0                 f                  0.0                        0.0   \n",
       "1                 f                  6.0                        6.0   \n",
       "2                 f                  1.0                        1.0   \n",
       "3                 f                  1.0                        1.0   \n",
       "4                 f                  3.0                        3.0   \n",
       "\n",
       "                                  host_verifications host_has_profile_pic  \\\n",
       "0                                        ['reviews']                    t   \n",
       "1  ['email', 'phone', 'reviews', 'offline_governm...                    t   \n",
       "2               ['email', 'phone', 'reviews', 'kba']                    t   \n",
       "3  ['email', 'phone', 'reviews', 'jumio', 'govern...                    t   \n",
       "4                      ['email', 'phone', 'reviews']                    t   \n",
       "\n",
       "  host_identity_verified  ... review_scores_value  requires_license  license  \\\n",
       "0                      f  ...                 NaN                 f      NaN   \n",
       "1                      t  ...                 9.0                 f      NaN   \n",
       "2                      t  ...                 8.0                 f      NaN   \n",
       "3                      f  ...                 9.0                 f      NaN   \n",
       "4                      f  ...                10.0                 f      NaN   \n",
       "\n",
       "  jurisdiction_names instant_bookable is_business_travel_ready  \\\n",
       "0                NaN                f                        f   \n",
       "1                NaN                f                        f   \n",
       "2                NaN                f                        f   \n",
       "3                NaN                f                        f   \n",
       "4                NaN                f                        f   \n",
       "\n",
       "           cancellation_policy  require_guest_profile_picture  \\\n",
       "0                     flexible                              f   \n",
       "1  strict_14_with_grace_period                              t   \n",
       "2                     moderate                              f   \n",
       "3                     moderate                              t   \n",
       "4  strict_14_with_grace_period                              f   \n",
       "\n",
       "   require_guest_phone_verification  reviews_per_month  \n",
       "0                                 f               0.01  \n",
       "1                                 t               0.38  \n",
       "2                                 f               4.71  \n",
       "3                                 t               0.59  \n",
       "4                                 f               0.56  \n",
       "\n",
       "[5 rows x 54 columns]"
      ]
     },
     "execution_count": 6,
     "metadata": {},
     "output_type": "execute_result"
    }
   ],
   "source": [
    "#Q1\n",
    "df.head(5)"
   ]
  },
  {
   "cell_type": "markdown",
   "metadata": {
    "id": "bs39AwwafcpA"
   },
   "source": [
    "---\n",
    "### 2) 결측치 확인"
   ]
  },
  {
   "cell_type": "markdown",
   "metadata": {
    "id": "9-IpP0m4fcpA"
   },
   "source": [
    "- #### <font color='orange'> Q2. 각 컬럼의 결측치를 확인하고, 결측치가 많은 순서대로 결측치 비율과 함께 표로 나타내보세요.\n",
    "<font color='orange'> (결측치 0개인 컬럼은 나타내지 마세요)"
   ]
  },
  {
   "cell_type": "code",
   "execution_count": 7,
   "metadata": {
    "id": "GN2gxJDifcpB"
   },
   "outputs": [
    {
     "data": {
      "text/plain": [
       "id                                      0\n",
       "host_response_time                  19006\n",
       "host_response_rate                  19006\n",
       "host_acceptance_rate                14015\n",
       "host_is_superhost                       5\n",
       "host_listings_count                     5\n",
       "host_total_listings_count               5\n",
       "host_verifications                      0\n",
       "host_has_profile_pic                    5\n",
       "host_identity_verified                  5\n",
       "neighborhood                            0\n",
       "latitude                                0\n",
       "longitude                               0\n",
       "is_location_exact                       0\n",
       "property_type                           0\n",
       "room_type                               0\n",
       "accommodates                            0\n",
       "bathrooms                              54\n",
       "bedrooms                               77\n",
       "beds                                  482\n",
       "bed_type                                0\n",
       "amenities                               0\n",
       "square_feet                         50407\n",
       "price                                   0\n",
       "weekly_price                        45411\n",
       "monthly_price                       46119\n",
       "security_deposit                    17325\n",
       "guests_included                         0\n",
       "extra_people                            0\n",
       "minimum_nights                          0\n",
       "maximum_nights                          0\n",
       "has_availability                        0\n",
       "availability_30                         0\n",
       "availability_60                         0\n",
       "availability_90                         0\n",
       "availability_365                        0\n",
       "number_of_reviews                       0\n",
       "number_of_reviews_ltm                   0\n",
       "review_scores_rating                11431\n",
       "review_scores_accuracy              11466\n",
       "review_scores_cleanliness           11452\n",
       "review_scores_checkin               11479\n",
       "review_scores_communication         11463\n",
       "review_scores_location              11482\n",
       "review_scores_value                 11482\n",
       "requires_license                        0\n",
       "license                             50759\n",
       "jurisdiction_names                  50781\n",
       "instant_bookable                        0\n",
       "is_business_travel_ready                0\n",
       "cancellation_policy                     0\n",
       "require_guest_profile_picture           0\n",
       "require_guest_phone_verification        0\n",
       "reviews_per_month                   10453\n",
       "dtype: int64"
      ]
     },
     "execution_count": 7,
     "metadata": {},
     "output_type": "execute_result"
    }
   ],
   "source": [
    "# Q2 컬럼별 결측치 확인하기 \n",
    "df.isnull().sum()"
   ]
  },
  {
   "cell_type": "code",
   "execution_count": 23,
   "metadata": {},
   "outputs": [
    {
     "data": {
      "text/html": [
       "<div>\n",
       "<style scoped>\n",
       "    .dataframe tbody tr th:only-of-type {\n",
       "        vertical-align: middle;\n",
       "    }\n",
       "\n",
       "    .dataframe tbody tr th {\n",
       "        vertical-align: top;\n",
       "    }\n",
       "\n",
       "    .dataframe thead th {\n",
       "        text-align: right;\n",
       "    }\n",
       "</style>\n",
       "<table border=\"1\" class=\"dataframe\">\n",
       "  <thead>\n",
       "    <tr style=\"text-align: right;\">\n",
       "      <th></th>\n",
       "      <th>column</th>\n",
       "      <th>null_num</th>\n",
       "      <th>missing_%</th>\n",
       "    </tr>\n",
       "  </thead>\n",
       "  <tbody>\n",
       "    <tr>\n",
       "      <th>0</th>\n",
       "      <td>jurisdiction_names</td>\n",
       "      <td>50781</td>\n",
       "      <td>99.97</td>\n",
       "    </tr>\n",
       "    <tr>\n",
       "      <th>1</th>\n",
       "      <td>license</td>\n",
       "      <td>50759</td>\n",
       "      <td>99.93</td>\n",
       "    </tr>\n",
       "    <tr>\n",
       "      <th>2</th>\n",
       "      <td>square_feet</td>\n",
       "      <td>50407</td>\n",
       "      <td>99.23</td>\n",
       "    </tr>\n",
       "    <tr>\n",
       "      <th>3</th>\n",
       "      <td>monthly_price</td>\n",
       "      <td>46119</td>\n",
       "      <td>90.79</td>\n",
       "    </tr>\n",
       "    <tr>\n",
       "      <th>4</th>\n",
       "      <td>weekly_price</td>\n",
       "      <td>45411</td>\n",
       "      <td>89.40</td>\n",
       "    </tr>\n",
       "    <tr>\n",
       "      <th>5</th>\n",
       "      <td>host_response_rate</td>\n",
       "      <td>19006</td>\n",
       "      <td>37.42</td>\n",
       "    </tr>\n",
       "    <tr>\n",
       "      <th>6</th>\n",
       "      <td>host_response_time</td>\n",
       "      <td>19006</td>\n",
       "      <td>37.42</td>\n",
       "    </tr>\n",
       "    <tr>\n",
       "      <th>7</th>\n",
       "      <td>security_deposit</td>\n",
       "      <td>17325</td>\n",
       "      <td>34.11</td>\n",
       "    </tr>\n",
       "    <tr>\n",
       "      <th>8</th>\n",
       "      <td>host_acceptance_rate</td>\n",
       "      <td>14015</td>\n",
       "      <td>27.59</td>\n",
       "    </tr>\n",
       "    <tr>\n",
       "      <th>9</th>\n",
       "      <td>review_scores_value</td>\n",
       "      <td>11482</td>\n",
       "      <td>22.60</td>\n",
       "    </tr>\n",
       "    <tr>\n",
       "      <th>10</th>\n",
       "      <td>review_scores_location</td>\n",
       "      <td>11482</td>\n",
       "      <td>22.60</td>\n",
       "    </tr>\n",
       "    <tr>\n",
       "      <th>11</th>\n",
       "      <td>review_scores_checkin</td>\n",
       "      <td>11479</td>\n",
       "      <td>22.60</td>\n",
       "    </tr>\n",
       "    <tr>\n",
       "      <th>12</th>\n",
       "      <td>review_scores_accuracy</td>\n",
       "      <td>11466</td>\n",
       "      <td>22.57</td>\n",
       "    </tr>\n",
       "    <tr>\n",
       "      <th>13</th>\n",
       "      <td>review_scores_communication</td>\n",
       "      <td>11463</td>\n",
       "      <td>22.57</td>\n",
       "    </tr>\n",
       "    <tr>\n",
       "      <th>14</th>\n",
       "      <td>review_scores_cleanliness</td>\n",
       "      <td>11452</td>\n",
       "      <td>22.55</td>\n",
       "    </tr>\n",
       "    <tr>\n",
       "      <th>15</th>\n",
       "      <td>review_scores_rating</td>\n",
       "      <td>11431</td>\n",
       "      <td>22.50</td>\n",
       "    </tr>\n",
       "    <tr>\n",
       "      <th>16</th>\n",
       "      <td>reviews_per_month</td>\n",
       "      <td>10453</td>\n",
       "      <td>20.58</td>\n",
       "    </tr>\n",
       "    <tr>\n",
       "      <th>17</th>\n",
       "      <td>beds</td>\n",
       "      <td>482</td>\n",
       "      <td>0.95</td>\n",
       "    </tr>\n",
       "    <tr>\n",
       "      <th>18</th>\n",
       "      <td>bedrooms</td>\n",
       "      <td>77</td>\n",
       "      <td>0.15</td>\n",
       "    </tr>\n",
       "    <tr>\n",
       "      <th>19</th>\n",
       "      <td>bathrooms</td>\n",
       "      <td>54</td>\n",
       "      <td>0.11</td>\n",
       "    </tr>\n",
       "    <tr>\n",
       "      <th>20</th>\n",
       "      <td>host_listings_count</td>\n",
       "      <td>5</td>\n",
       "      <td>0.01</td>\n",
       "    </tr>\n",
       "    <tr>\n",
       "      <th>21</th>\n",
       "      <td>host_total_listings_count</td>\n",
       "      <td>5</td>\n",
       "      <td>0.01</td>\n",
       "    </tr>\n",
       "    <tr>\n",
       "      <th>22</th>\n",
       "      <td>host_has_profile_pic</td>\n",
       "      <td>5</td>\n",
       "      <td>0.01</td>\n",
       "    </tr>\n",
       "    <tr>\n",
       "      <th>23</th>\n",
       "      <td>host_is_superhost</td>\n",
       "      <td>5</td>\n",
       "      <td>0.01</td>\n",
       "    </tr>\n",
       "    <tr>\n",
       "      <th>24</th>\n",
       "      <td>host_identity_verified</td>\n",
       "      <td>5</td>\n",
       "      <td>0.01</td>\n",
       "    </tr>\n",
       "  </tbody>\n",
       "</table>\n",
       "</div>"
      ],
      "text/plain": [
       "                         column  null_num  missing_%\n",
       "0            jurisdiction_names     50781      99.97\n",
       "1                       license     50759      99.93\n",
       "2                   square_feet     50407      99.23\n",
       "3                 monthly_price     46119      90.79\n",
       "4                  weekly_price     45411      89.40\n",
       "5            host_response_rate     19006      37.42\n",
       "6            host_response_time     19006      37.42\n",
       "7              security_deposit     17325      34.11\n",
       "8          host_acceptance_rate     14015      27.59\n",
       "9           review_scores_value     11482      22.60\n",
       "10       review_scores_location     11482      22.60\n",
       "11        review_scores_checkin     11479      22.60\n",
       "12       review_scores_accuracy     11466      22.57\n",
       "13  review_scores_communication     11463      22.57\n",
       "14    review_scores_cleanliness     11452      22.55\n",
       "15         review_scores_rating     11431      22.50\n",
       "16            reviews_per_month     10453      20.58\n",
       "17                         beds       482       0.95\n",
       "18                     bedrooms        77       0.15\n",
       "19                    bathrooms        54       0.11\n",
       "20          host_listings_count         5       0.01\n",
       "21    host_total_listings_count         5       0.01\n",
       "22         host_has_profile_pic         5       0.01\n",
       "23            host_is_superhost         5       0.01\n",
       "24       host_identity_verified         5       0.01"
      ]
     },
     "execution_count": 23,
     "metadata": {},
     "output_type": "execute_result"
    }
   ],
   "source": [
    "# 결측치가 0이 아닌 컬럼만 뽑아 결측치가 많은 순으로 정렬 \n",
    "column = [] ; nullv = [] ; ratio = []\n",
    "for name in df.columns:\n",
    "    if df.isnull().sum()[name] >0 :\n",
    "        column.append(name)\n",
    "        nullv.append(df.isnull().sum()[name])\n",
    "        ratio.append((df.isnull().sum()[name] / len(df[name]) *100).round(2))\n",
    "\n",
    "new_ratio = pd.DataFrame({'column': column, 'null_num' : nullv, 'missing_%' : ratio})\n",
    "df_sorted = new_ratio.sort_values(by='null_num', ascending = False)\n",
    "\n",
    "df_sorted = df_sorted.reset_index(drop = True)\n",
    "\n",
    "df_sorted"
   ]
  },
  {
   "cell_type": "markdown",
   "metadata": {
    "id": "87TiQRKbfcpE"
   },
   "source": [
    "- #### <font color='orange'> Q3. 결측치가 있는 컬럼과 결측치 비율을 보기쉽게 그래프로 나타내 보세요."
   ]
  },
  {
   "cell_type": "code",
   "execution_count": 32,
   "metadata": {},
   "outputs": [
    {
     "data": {
      "image/png": "[encoded data removed]",
      "text/plain": [
       "<Figure size 2000x700 with 1 Axes>"
      ]
     },
     "metadata": {},
     "output_type": "display_data"
    }
   ],
   "source": [
    "plt.figure(figsize = (20,7))\n",
    "sns.barplot(x = 'column', y = 'missing_%', data = df_sorted)\n",
    "\n",
    "plt.xticks(rotation = 45)\n",
    "plt.show()"
   ]
  },
  {
   "cell_type": "markdown",
   "metadata": {
    "id": "D8Xr7__1fcpI"
   },
   "source": [
    "- #### <font color='orange'> Q4. 결측치가 적은 beds 컬럼을 좀 더 자세히 살펴보겠습니다.\n",
    "  #### <font color='orange'> 'beds' 컬럼이 결측치인 데이터의 상위 5개를 출력해주세요."
   ]
  },
  {
   "cell_type": "code",
   "execution_count": 36,
   "metadata": {},
   "outputs": [
    {
     "data": {
      "text/html": [
       "<div>\n",
       "<style scoped>\n",
       "    .dataframe tbody tr th:only-of-type {\n",
       "        vertical-align: middle;\n",
       "    }\n",
       "\n",
       "    .dataframe tbody tr th {\n",
       "        vertical-align: top;\n",
       "    }\n",
       "\n",
       "    .dataframe thead th {\n",
       "        text-align: right;\n",
       "    }\n",
       "</style>\n",
       "<table border=\"1\" class=\"dataframe\">\n",
       "  <thead>\n",
       "    <tr style=\"text-align: right;\">\n",
       "      <th></th>\n",
       "      <th>id</th>\n",
       "      <th>host_response_time</th>\n",
       "      <th>host_response_rate</th>\n",
       "      <th>host_acceptance_rate</th>\n",
       "      <th>host_is_superhost</th>\n",
       "      <th>host_listings_count</th>\n",
       "      <th>host_total_listings_count</th>\n",
       "      <th>host_verifications</th>\n",
       "      <th>host_has_profile_pic</th>\n",
       "      <th>host_identity_verified</th>\n",
       "      <th>...</th>\n",
       "      <th>review_scores_value</th>\n",
       "      <th>requires_license</th>\n",
       "      <th>license</th>\n",
       "      <th>jurisdiction_names</th>\n",
       "      <th>instant_bookable</th>\n",
       "      <th>is_business_travel_ready</th>\n",
       "      <th>cancellation_policy</th>\n",
       "      <th>require_guest_profile_picture</th>\n",
       "      <th>require_guest_phone_verification</th>\n",
       "      <th>reviews_per_month</th>\n",
       "    </tr>\n",
       "  </thead>\n",
       "  <tbody>\n",
       "    <tr>\n",
       "      <th>808</th>\n",
       "      <td>321845</td>\n",
       "      <td>NaN</td>\n",
       "      <td>NaN</td>\n",
       "      <td>NaN</td>\n",
       "      <td>f</td>\n",
       "      <td>0.0</td>\n",
       "      <td>0.0</td>\n",
       "      <td>['email']</td>\n",
       "      <td>t</td>\n",
       "      <td>f</td>\n",
       "      <td>...</td>\n",
       "      <td>NaN</td>\n",
       "      <td>f</td>\n",
       "      <td>NaN</td>\n",
       "      <td>NaN</td>\n",
       "      <td>f</td>\n",
       "      <td>f</td>\n",
       "      <td>strict_14_with_grace_period</td>\n",
       "      <td>f</td>\n",
       "      <td>f</td>\n",
       "      <td>NaN</td>\n",
       "    </tr>\n",
       "    <tr>\n",
       "      <th>1002</th>\n",
       "      <td>468613</td>\n",
       "      <td>NaN</td>\n",
       "      <td>NaN</td>\n",
       "      <td>NaN</td>\n",
       "      <td>f</td>\n",
       "      <td>1.0</td>\n",
       "      <td>1.0</td>\n",
       "      <td>['email', 'phone', 'facebook', 'reviews', 'kba']</td>\n",
       "      <td>t</td>\n",
       "      <td>t</td>\n",
       "      <td>...</td>\n",
       "      <td>NaN</td>\n",
       "      <td>f</td>\n",
       "      <td>NaN</td>\n",
       "      <td>NaN</td>\n",
       "      <td>f</td>\n",
       "      <td>f</td>\n",
       "      <td>flexible</td>\n",
       "      <td>f</td>\n",
       "      <td>f</td>\n",
       "      <td>NaN</td>\n",
       "    </tr>\n",
       "    <tr>\n",
       "      <th>1058</th>\n",
       "      <td>499249</td>\n",
       "      <td>NaN</td>\n",
       "      <td>NaN</td>\n",
       "      <td>0%</td>\n",
       "      <td>f</td>\n",
       "      <td>1.0</td>\n",
       "      <td>1.0</td>\n",
       "      <td>['email', 'phone', 'reviews', 'offline_governm...</td>\n",
       "      <td>t</td>\n",
       "      <td>f</td>\n",
       "      <td>...</td>\n",
       "      <td>10.0</td>\n",
       "      <td>f</td>\n",
       "      <td>NaN</td>\n",
       "      <td>NaN</td>\n",
       "      <td>t</td>\n",
       "      <td>f</td>\n",
       "      <td>strict_14_with_grace_period</td>\n",
       "      <td>f</td>\n",
       "      <td>f</td>\n",
       "      <td>0.01</td>\n",
       "    </tr>\n",
       "    <tr>\n",
       "      <th>1074</th>\n",
       "      <td>505231</td>\n",
       "      <td>NaN</td>\n",
       "      <td>NaN</td>\n",
       "      <td>NaN</td>\n",
       "      <td>f</td>\n",
       "      <td>1.0</td>\n",
       "      <td>1.0</td>\n",
       "      <td>['email', 'phone', 'reviews']</td>\n",
       "      <td>t</td>\n",
       "      <td>f</td>\n",
       "      <td>...</td>\n",
       "      <td>10.0</td>\n",
       "      <td>f</td>\n",
       "      <td>NaN</td>\n",
       "      <td>NaN</td>\n",
       "      <td>f</td>\n",
       "      <td>f</td>\n",
       "      <td>moderate</td>\n",
       "      <td>f</td>\n",
       "      <td>f</td>\n",
       "      <td>0.01</td>\n",
       "    </tr>\n",
       "    <tr>\n",
       "      <th>1208</th>\n",
       "      <td>587519</td>\n",
       "      <td>NaN</td>\n",
       "      <td>NaN</td>\n",
       "      <td>0%</td>\n",
       "      <td>f</td>\n",
       "      <td>1.0</td>\n",
       "      <td>1.0</td>\n",
       "      <td>['email', 'phone', 'facebook', 'reviews']</td>\n",
       "      <td>t</td>\n",
       "      <td>f</td>\n",
       "      <td>...</td>\n",
       "      <td>6.0</td>\n",
       "      <td>f</td>\n",
       "      <td>NaN</td>\n",
       "      <td>NaN</td>\n",
       "      <td>f</td>\n",
       "      <td>f</td>\n",
       "      <td>flexible</td>\n",
       "      <td>f</td>\n",
       "      <td>f</td>\n",
       "      <td>0.02</td>\n",
       "    </tr>\n",
       "  </tbody>\n",
       "</table>\n",
       "<p>5 rows × 54 columns</p>\n",
       "</div>"
      ],
      "text/plain": [
       "          id host_response_time host_response_rate host_acceptance_rate  \\\n",
       "808   321845                NaN                NaN                  NaN   \n",
       "1002  468613                NaN                NaN                  NaN   \n",
       "1058  499249                NaN                NaN                   0%   \n",
       "1074  505231                NaN                NaN                  NaN   \n",
       "1208  587519                NaN                NaN                   0%   \n",
       "\n",
       "     host_is_superhost  host_listings_count  host_total_listings_count  \\\n",
       "808                  f                  0.0                        0.0   \n",
       "1002                 f                  1.0                        1.0   \n",
       "1058                 f                  1.0                        1.0   \n",
       "1074                 f                  1.0                        1.0   \n",
       "1208                 f                  1.0                        1.0   \n",
       "\n",
       "                                     host_verifications host_has_profile_pic  \\\n",
       "808                                           ['email']                    t   \n",
       "1002   ['email', 'phone', 'facebook', 'reviews', 'kba']                    t   \n",
       "1058  ['email', 'phone', 'reviews', 'offline_governm...                    t   \n",
       "1074                      ['email', 'phone', 'reviews']                    t   \n",
       "1208          ['email', 'phone', 'facebook', 'reviews']                    t   \n",
       "\n",
       "     host_identity_verified  ... review_scores_value  requires_license  \\\n",
       "808                       f  ...                 NaN                 f   \n",
       "1002                      t  ...                 NaN                 f   \n",
       "1058                      f  ...                10.0                 f   \n",
       "1074                      f  ...                10.0                 f   \n",
       "1208                      f  ...                 6.0                 f   \n",
       "\n",
       "      license jurisdiction_names instant_bookable is_business_travel_ready  \\\n",
       "808       NaN                NaN                f                        f   \n",
       "1002      NaN                NaN                f                        f   \n",
       "1058      NaN                NaN                t                        f   \n",
       "1074      NaN                NaN                f                        f   \n",
       "1208      NaN                NaN                f                        f   \n",
       "\n",
       "              cancellation_policy  require_guest_profile_picture  \\\n",
       "808   strict_14_with_grace_period                              f   \n",
       "1002                     flexible                              f   \n",
       "1058  strict_14_with_grace_period                              f   \n",
       "1074                     moderate                              f   \n",
       "1208                     flexible                              f   \n",
       "\n",
       "      require_guest_phone_verification  reviews_per_month  \n",
       "808                                  f                NaN  \n",
       "1002                                 f                NaN  \n",
       "1058                                 f               0.01  \n",
       "1074                                 f               0.01  \n",
       "1208                                 f               0.02  \n",
       "\n",
       "[5 rows x 54 columns]"
      ]
     },
     "execution_count": 36,
     "metadata": {},
     "output_type": "execute_result"
    }
   ],
   "source": [
    "df[df['beds'].isna()].head(5)"
   ]
  },
  {
   "cell_type": "markdown",
   "metadata": {
    "id": "aG4VKbWVfcpM"
   },
   "source": [
    "---\n",
    "### 3) 범주형 변수 확인\n",
    "<font color='gray'> - 편의를 위해 결측치가 있는 컬럼을 모두 제거하고 진행하겠습니다."
   ]
  },
  {
   "cell_type": "code",
   "execution_count": 37,
   "metadata": {
    "id": "82BUbKO1fcpM"
   },
   "outputs": [],
   "source": [
    "drop_col = ['jurisdiction_names', 'license', 'square_feet', 'monthly_price',\n",
    "       'weekly_price', 'host_response_rate', 'host_response_time',\n",
    "       'security_deposit', 'host_acceptance_rate', 'review_scores_location',\n",
    "       'review_scores_value', 'review_scores_checkin',\n",
    "       'review_scores_accuracy', 'review_scores_communication',\n",
    "       'review_scores_cleanliness', 'review_scores_rating',\n",
    "       'reviews_per_month', 'beds']"
   ]
  },
  {
   "cell_type": "code",
   "execution_count": 38,
   "metadata": {
    "id": "pgWTlyZ0fcpO"
   },
   "outputs": [],
   "source": [
    "df = df.drop(columns=drop_col)"
   ]
  },
  {
   "cell_type": "markdown",
   "metadata": {
    "id": "9uEFs_yxfcpR"
   },
   "source": [
    "- #### 각 컬럼별 변수 타입 확인"
   ]
  },
  {
   "cell_type": "code",
   "execution_count": 39,
   "metadata": {},
   "outputs": [
    {
     "name": "stdout",
     "output_type": "stream",
     "text": [
      "<class 'pandas.core.frame.DataFrame'>\n",
      "Int64Index: 50796 entries, 0 to 50795\n",
      "Data columns (total 36 columns):\n",
      " #   Column                            Non-Null Count  Dtype  \n",
      "---  ------                            --------------  -----  \n",
      " 0   id                                50796 non-null  int64  \n",
      " 1   host_is_superhost                 50791 non-null  object \n",
      " 2   host_listings_count               50791 non-null  float64\n",
      " 3   host_total_listings_count         50791 non-null  float64\n",
      " 4   host_verifications                50796 non-null  object \n",
      " 5   host_has_profile_pic              50791 non-null  object \n",
      " 6   host_identity_verified            50791 non-null  object \n",
      " 7   neighborhood                      50796 non-null  object \n",
      " 8   latitude                          50796 non-null  float64\n",
      " 9   longitude                         50796 non-null  float64\n",
      " 10  is_location_exact                 50796 non-null  object \n",
      " 11  property_type                     50796 non-null  object \n",
      " 12  room_type                         50796 non-null  object \n",
      " 13  accommodates                      50796 non-null  int64  \n",
      " 14  bathrooms                         50742 non-null  float64\n",
      " 15  bedrooms                          50719 non-null  float64\n",
      " 16  bed_type                          50796 non-null  object \n",
      " 17  amenities                         50796 non-null  object \n",
      " 18  price                             50796 non-null  int64  \n",
      " 19  guests_included                   50796 non-null  int64  \n",
      " 20  extra_people                      50796 non-null  object \n",
      " 21  minimum_nights                    50796 non-null  int64  \n",
      " 22  maximum_nights                    50796 non-null  int64  \n",
      " 23  has_availability                  50796 non-null  object \n",
      " 24  availability_30                   50796 non-null  int64  \n",
      " 25  availability_60                   50796 non-null  int64  \n",
      " 26  availability_90                   50796 non-null  int64  \n",
      " 27  availability_365                  50796 non-null  int64  \n",
      " 28  number_of_reviews                 50796 non-null  int64  \n",
      " 29  number_of_reviews_ltm             50796 non-null  int64  \n",
      " 30  requires_license                  50796 non-null  object \n",
      " 31  instant_bookable                  50796 non-null  object \n",
      " 32  is_business_travel_ready          50796 non-null  object \n",
      " 33  cancellation_policy               50796 non-null  object \n",
      " 34  require_guest_profile_picture     50796 non-null  object \n",
      " 35  require_guest_phone_verification  50796 non-null  object \n",
      "dtypes: float64(6), int64(12), object(18)\n",
      "memory usage: 14.3+ MB\n"
     ]
    }
   ],
   "source": [
    "df.info()"
   ]
  },
  {
   "cell_type": "markdown",
   "metadata": {
    "id": "wmmKNpDffcpT"
   },
   "source": [
    "- #### <font color='orange'> Q5. Room Type 에는 어떤 것들이 있는지 살펴보겠습니다.\n",
    "#### <font color='orange'> room_type의 종류별 갯수에 대한 그래프를 그려주세요."
   ]
  },
  {
   "cell_type": "code",
   "execution_count": 40,
   "metadata": {
    "id": "L5NgpaZAfcpU"
   },
   "outputs": [
    {
     "data": {
      "text/plain": [
       "<Axes: xlabel='room_type', ylabel='count'>"
      ]
     },
     "execution_count": 40,
     "metadata": {},
     "output_type": "execute_result"
    },
    {
     "data": {
      "image/png": "[encoded data removed]",
      "text/plain": [
       "<Figure size 640x480 with 1 Axes>"
      ]
     },
     "metadata": {},
     "output_type": "display_data"
    }
   ],
   "source": [
    "# Q5\n",
    "sns.countplot(x='room_type', data = df)"
   ]
  },
  {
   "cell_type": "markdown",
   "metadata": {
    "id": "tDraukBJfcpW"
   },
   "source": [
    "- #### <font color='orange'> Q6. 위 그래프의 세로축이 갯수가 아닌 비율을 나타내도록 재구성해보세요."
   ]
  },
  {
   "cell_type": "code",
   "execution_count": 59,
   "metadata": {},
   "outputs": [
    {
     "data": {
      "image/png": "[encoded data removed]",
      "text/plain": [
       "<Figure size 640x480 with 1 Axes>"
      ]
     },
     "metadata": {},
     "output_type": "display_data"
    }
   ],
   "source": [
    "room_ratio = pd.DataFrame(df['room_type'].value_counts() / len(df['room_type']))\n",
    "room_ratio = room_ratio.reset_index()\n",
    "\n",
    "fig = sns.barplot(x = 'index', y = 'room_type', data = room_ratio)\n",
    "fig.set(xlabel = None)\n",
    "plt.show()"
   ]
  },
  {
   "cell_type": "markdown",
   "metadata": {
    "id": "iN06xvJufcpZ"
   },
   "source": [
    "- #### <font color='orange'> Q7. 각 지역별로 room_type의 비율이 어땠는 지 알고 싶습니다.\n",
    "#### <font color='orange'> 아래 그래프와 같이 각 지역별로 room_type의 갯수가 어땠는지 보여주세요.    "
   ]
  },
  {
   "cell_type": "code",
   "execution_count": 46,
   "metadata": {},
   "outputs": [
    {
     "data": {
      "image/png": "[encoded data removed]",
      "text/plain": [
       "<Figure size 1000x500 with 1 Axes>"
      ]
     },
     "metadata": {},
     "output_type": "display_data"
    }
   ],
   "source": [
    "plt.figure(figsize = (10,5))\n",
    "sns.countplot(x='neighborhood', hue = 'room_type', data = df)\n",
    "plt.legend(loc='upper center')\n",
    "plt.show()"
   ]
  },
  {
   "cell_type": "markdown",
   "metadata": {
    "id": "UA5MIpa0fcpg"
   },
   "source": [
    "- #### <font color='orange'> Q8. 각 지역별로 가격의 분포가 어떤지 알고 싶습니다.\n",
    "#### <font color='orange'> 아래 그래프와 같이 각 지역별로 가격의 분포를 보여주세요."
   ]
  },
  {
   "cell_type": "code",
   "execution_count": 64,
   "metadata": {},
   "outputs": [
    {
     "data": {
      "text/plain": [
       "<Axes: xlabel='neighborhood', ylabel='price'>"
      ]
     },
     "execution_count": 64,
     "metadata": {},
     "output_type": "execute_result"
    },
    {
     "data": {
      "image/png": "[encoded data removed]",
      "text/plain": [
       "<Figure size 1500x800 with 1 Axes>"
      ]
     },
     "metadata": {},
     "output_type": "display_data"
    }
   ],
   "source": [
    "plt.figure(figsize = (15, 8))\n",
    "sns.stripplot(x='neighborhood', y = 'price',hue = 'neighborhood', data = df)"
   ]
  },
  {
   "cell_type": "markdown",
   "metadata": {
    "id": "xVaZ98NWfcpj"
   },
   "source": [
    "- #### <font color='orange'> Q9. 위 그래프들로부터 알 수 있는 사실은 무엇인가요? 그 이유는 무엇이라고 생각하시나요?"
   ]
  },
  {
   "cell_type": "markdown",
   "metadata": {
    "id": "CjWumnVOfcpj"
   },
   "source": [
    "- Q8의 그래프를 통해 Manhatan과 Brooklyn에 가격대가 높은 방들이 존재함을 알 수 있음\n",
    "- Q6을 통해 Private Room, Entire Home/APT 유형의 숙소들이 주로 운영되고 있음을 알 수 있으며, Q7을 통해 Manhattan의 경우 Private Room보다 Entire Home/APT가 많이 운영되고 있음을 파악할 수 있음. Manhattan 지역의 숙소 가격대가 높았음을 고려할 때, Private room 보다 숙소 전체를 빌려주는 경우가 많기 때문이지 않을까 추론해볼 수 있음"
   ]
  },
  {
   "cell_type": "markdown",
   "metadata": {
    "id": "orxw6U8C2eK5"
   },
   "source": [
    "---\n",
    "### 4) 연속형 변수 확인"
   ]
  },
  {
   "cell_type": "markdown",
   "metadata": {
    "id": "fnmWOYOnfcpn"
   },
   "source": [
    "- #### <font color='orange'> Q10. 각 방의 수용가능인원의 분포를 알고싶습니다.\n",
    "#### <font color='orange'> 'accommodates' 칼럼에 대한 히스토그램을 그려주세요."
   ]
  },
  {
   "cell_type": "code",
   "execution_count": 83,
   "metadata": {},
   "outputs": [
    {
     "data": {
      "image/png": "[encoded data removed]",
      "text/plain": [
       "<Figure size 1000x400 with 1 Axes>"
      ]
     },
     "metadata": {},
     "output_type": "display_data"
    }
   ],
   "source": [
    "plt.figure(figsize=(10,4))\n",
    "plt.hist(x='accommodates',data = df,bins = 20, color = 'palevioletred' )\n",
    "plt.show()\n",
    "\n",
    "#seaborn의 histplot으로도 시각화 가능 \n",
    "#sns.histplot(x='accommodates',data=df, bins=20,color = 'palevioletred')"
   ]
  },
  {
   "cell_type": "markdown",
   "metadata": {
    "id": "Likx5P43fcpr"
   },
   "source": [
    "- #### <font color='orange'> Q11. 각 방의 가격의 분포를 알고 싶습니다.\n",
    "#### <font color='orange'> 'price' 칼럼에 대한 히스토그램을 그려주세요. 범위는 0~1000까지만 보여주세요."
   ]
  },
  {
   "cell_type": "code",
   "execution_count": 102,
   "metadata": {},
   "outputs": [
    {
     "data": {
      "image/png": "[encoded data removed]",
      "text/plain": [
       "<Figure size 1000x400 with 1 Axes>"
      ]
     },
     "metadata": {},
     "output_type": "display_data"
    }
   ],
   "source": [
    "plt.figure(figsize=(10,4))\n",
    "plt.hist(x='price',data = df, color = 'lawngreen', range = (0,1000), bins = 50)\n",
    "plt.show()"
   ]
  },
  {
   "cell_type": "markdown",
   "metadata": {
    "id": "q5EAhuiwOtoF"
   },
   "source": [
    "---\n",
    "### 5) Feature Engineering"
   ]
  },
  {
   "cell_type": "markdown",
   "metadata": {
    "id": "OvWz2cW6OtoF"
   },
   "source": [
    "feature에 대한 전처리를 하기 이전에 결측치가 있는 column을 모두 제거했는데, 다시 초기 상태로 되돌리고 진행하겠습니다."
   ]
  },
  {
   "cell_type": "code",
   "execution_count": 283,
   "metadata": {
    "id": "0mbR4Ve-OtoG"
   },
   "outputs": [
    {
     "name": "stderr",
     "output_type": "stream",
     "text": [
      "C:\\Users\\visma\\AppData\\Local\\Temp\\ipykernel_13124\\577296706.py:1: DtypeWarning: Columns (25,26,47) have mixed types. Specify dtype option on import or set low_memory=False.\n",
      "  df = pd.read_csv('airbnb_listings.csv', index_col=0)\n"
     ]
    }
   ],
   "source": [
    "df = pd.read_csv('airbnb_listings.csv', index_col=0)"
   ]
  },
  {
   "cell_type": "markdown",
   "metadata": {
    "id": "recHa15QOtoG"
   },
   "source": [
    "- #### <font color='orange'> Q12. 결측치에 대한 처리를 하고 싶습니다.\n",
    "#### <font color='orange'> 주어진 모든 column들에 대하여 결측치가 25%이상인 경우에는 column을 drop하고 10%이상 25%미만인 경우에는 결측치가 있는 row만 drop하고, 10%미만인 경우에는 중앙값으로 대체해주세요."
   ]
  },
  {
   "cell_type": "code",
   "execution_count": 284,
   "metadata": {},
   "outputs": [
    {
     "data": {
      "text/plain": [
       "(50796, 54)"
      ]
     },
     "execution_count": 284,
     "metadata": {},
     "output_type": "execute_result"
    }
   ],
   "source": [
    "#처리 전\n",
    "df.shape"
   ]
  },
  {
   "cell_type": "code",
   "execution_count": 285,
   "metadata": {
    "id": "muau0X3MOtoG",
    "scrolled": true
   },
   "outputs": [],
   "source": [
    "#Q12\n",
    "new = df.copy()\n",
    "\n",
    "# 결측치 25% 이상인 column drop\n",
    "new.drop(columns = df.columns[df.isna().sum()/len(df) >= 0.25], axis = 1, inplace=True)\n",
    "\n",
    "# 결측치 10% 이상 25% 미만인 경우 결측치 있는 행을 drop\n",
    "cols = df.columns[(0.1 <= df.isna().sum()/len(df)) & (df.isna().sum()/len(df) < 0.25)]\n",
    "new.dropna(subset = cols, axis=0, inplace=True)\n",
    "\n",
    "# 결측치가 10% 미만인 경우 중앙값으로 대체 \n",
    "cols = df.columns[df.isna().sum()/len(df) < 0.1]\n",
    "new[cols] = new[cols].fillna(df.median(numeric_only = True))"
   ]
  },
  {
   "cell_type": "code",
   "execution_count": 286,
   "metadata": {},
   "outputs": [
    {
     "data": {
      "text/plain": [
       "(39291, 45)"
      ]
     },
     "execution_count": 286,
     "metadata": {},
     "output_type": "execute_result"
    }
   ],
   "source": [
    "#처리 후 \n",
    "new.shape"
   ]
  },
  {
   "cell_type": "markdown",
   "metadata": {
    "id": "W_o9k0XjOtoG"
   },
   "source": [
    "- #### <font color='orange'> Q13. 앞서 진행한 EDA를 바탕으로 FE를 진행하고자 합니다..\n",
    "#### <font color='orange'> 총 3개의 FE를 진행하시고, 해당 FE를 진행한 이유에 대해 **간단히** 작성해주세요.\n"
   ]
  },
  {
   "cell_type": "markdown",
   "metadata": {},
   "source": [
    "#### FE 전 전처리<br><br/>\n",
    "\n",
    "1) Price 컬럼에 대한 이상치 탐지 \n",
    "\n",
    "- Q11 EDA 과정에서 금액대가 1000 이하에 몰려 있는 것을 확인함. 왜도와 첨도를 계산해보니, 둘 다 결과값이 크게 나와 이상치가 많다고 판단함. 이상치를 제외하기 위해 전체 분포의 1 ~ 99%에 해당하는 값만 사용하기로 결정.  "
   ]
  },
  {
   "cell_type": "code",
   "execution_count": 244,
   "metadata": {},
   "outputs": [
    {
     "name": "stdout",
     "output_type": "stream",
     "text": [
      "skewness : 22.704481034095142\n",
      "kurtosis : 599.3666952447193\n"
     ]
    }
   ],
   "source": [
    "#왜도, 첨도 계산 \n",
    "skew = new['price'].skew(); kurt = new['price'].kurt()\n",
    "print(f'skewness : {skew}')\n",
    "print(f'kurtosis : {kurt}')"
   ]
  },
  {
   "cell_type": "code",
   "execution_count": 181,
   "metadata": {},
   "outputs": [
    {
     "data": {
      "text/plain": [
       "<Axes: ylabel='price'>"
      ]
     },
     "execution_count": 181,
     "metadata": {},
     "output_type": "execute_result"
    },
    {
     "data": {
      "image/png": "[encoded data removed]",
      "text/plain": [
       "<Figure size 700x1500 with 1 Axes>"
      ]
     },
     "metadata": {},
     "output_type": "display_data"
    }
   ],
   "source": [
    "#boxplot으로 분포 확인해보기\n",
    "plt.figure(figsize=(7,15))\n",
    "sns.boxplot(y='price', data = new)"
   ]
  },
  {
   "cell_type": "code",
   "execution_count": 287,
   "metadata": {},
   "outputs": [],
   "source": [
    "# 전체 데이터의 1~99% 상/하한 정하고 이상치 없애기 \n",
    "min_th, max_th = new['price'].quantile([0.01,0.99])\n",
    "new = new[(new['price'] >= min_th) & (new['price'] <= max_th)]"
   ]
  },
  {
   "cell_type": "code",
   "execution_count": 204,
   "metadata": {},
   "outputs": [
    {
     "name": "stdout",
     "output_type": "stream",
     "text": [
      "skewness : 2.2268463558769587\n",
      "kurtosis : 7.180764999202372\n"
     ]
    }
   ],
   "source": [
    "# 이상치 처리 후의 왜도, 첨도 \n",
    "skew = new['price'].skew(); kurt = new['price'].kurt()\n",
    "print(f'skewness : {skew}')\n",
    "print(f'kurtosis : {kurt}')"
   ]
  },
  {
   "cell_type": "code",
   "execution_count": 203,
   "metadata": {
    "scrolled": true
   },
   "outputs": [
    {
     "data": {
      "text/plain": [
       "<Axes: ylabel='price'>"
      ]
     },
     "execution_count": 203,
     "metadata": {},
     "output_type": "execute_result"
    },
    {
     "data": {
      "image/png": "[encoded data removed]",
      "text/plain": [
       "<Figure size 700x1500 with 1 Axes>"
      ]
     },
     "metadata": {},
     "output_type": "display_data"
    }
   ],
   "source": [
    "#boxplot으로 분포 확인해보기\n",
    "plt.figure(figsize=(7,15))\n",
    "sns.boxplot(y='price', data = new)"
   ]
  },
  {
   "cell_type": "code",
   "execution_count": 288,
   "metadata": {},
   "outputs": [
    {
     "data": {
      "text/plain": [
       "(38577, 45)"
      ]
     },
     "execution_count": 288,
     "metadata": {},
     "output_type": "execute_result"
    }
   ],
   "source": [
    "new.shape"
   ]
  },
  {
   "cell_type": "markdown",
   "metadata": {},
   "source": [
    "### FE"
   ]
  },
  {
   "cell_type": "markdown",
   "metadata": {},
   "source": [
    "#### 1. Feature Split \n",
    "\n",
    "- 원본 데이터에서는 'amenities' 컬럼에 숙소가 제공하는 amenities가 단순히 나열되어 있음.\n",
    "- amenities를 \"몇 개\" 제공하는지보다 \"어떤 것을\" 제공하는지가 중요할 것이라고 판단하고, 'amenities' 컬럼의 속성을 분리하고자 함\n",
    "- amenities 컬럼에 대한 몇 가지 처리를 진행해 amenities의 등장 횟수를 dictionary 형태로 출력했고, 총 38577개의 데이터 중 약 70% 이상이 제공하는 어매니티 품목과 30% 미만의 숙소가 제공하는 amenity 품목을 제외한 나머지를 새로운 컬럼으로 생성함.\n",
    "- 새롭게 생성된 컬럼에 대해서는 해당 품목을 제공하는지 아닌지의 여부를 이진 범주화해서 나타냄 (0 : 제공 안함 / 1 : 제공함) "
   ]
  },
  {
   "cell_type": "code",
   "execution_count": 289,
   "metadata": {},
   "outputs": [],
   "source": [
    "#Q13-1) \n",
    "\n",
    "encoded = new.copy()\n",
    "#리스트 형태로 컬럼값 변경\n",
    "encoded['amenities'] = encoded['amenities'].apply(lambda x : x[1:-1].split(','))\n",
    "\n",
    "# 컬럼값 하나의 리스트로 합치기 \n",
    "ams = []\n",
    "for idx in encoded['amenities']:\n",
    "    for con in idx:\n",
    "        ams.append(con)\n",
    "\n",
    "# amenity 명 : 등장 횟수로 딕녀서리 생성하기 \n",
    "am_dict = {}\n",
    "for am in set(ams):\n",
    "    am_dict[am] = ams.count(am)"
   ]
  },
  {
   "cell_type": "code",
   "execution_count": 263,
   "metadata": {},
   "outputs": [
    {
     "data": {
      "text/plain": [
       "[('Wifi', 37925),\n",
       " ('Heating', 36829),\n",
       " ('Essentials', 36483),\n",
       " ('Kitchen', 35220),\n",
       " ('\"Smoke detector\"', 34365),\n",
       " ('\"Air conditioning\"', 33598),\n",
       " ('Hangers', 30129),\n",
       " ('\"Carbon monoxide detector\"', 28328),\n",
       " ('Shampoo', 27532),\n",
       " ('\"Hair dryer\"', 27257),\n",
       " ('TV', 26564),\n",
       " ('Iron', 25831),\n",
       " ('\"Laptop friendly workspace\"', 25647),\n",
       " ('\"Hot water\"', 24822),\n",
       " ('Refrigerator', 20414),\n",
       " ('\"Dishes and silverware\"', 20195),\n",
       " ('\"Cooking basics\"', 17355),\n",
       " ('\"Free street parking\"', 17245),\n",
       " ('Microwave', 17144),\n",
       " ('Stove', 17119),\n",
       " ('Oven', 16506),\n",
       " ('\"Coffee maker\"', 15953),\n",
       " ('\"Fire extinguisher\"', 15825),\n",
       " ('\"Lock on bedroom door\"', 15249),\n",
       " ('Washer', 15006),\n",
       " ('Dryer', 14768),\n",
       " ('\"Bed linens\"', 14509),\n",
       " ('\"First aid kit\"', 14130),\n",
       " ('Internet', 10902),\n",
       " ('\"Extra pillows and blankets\"', 10364),\n",
       " ('\"Family/kid friendly\"', 9980),\n",
       " ('\"Self check-in\"', 9896),\n",
       " ('Elevator', 9435),\n",
       " ('\"Cable TV\"', 9213),\n",
       " ('\"Long term stays allowed\"', 8781),\n",
       " ('\"Private entrance\"', 8552),\n",
       " ('\"Buzzer/wireless intercom\"', 7733),\n",
       " ('\"Luggage dropoff allowed\"', 7474),\n",
       " ('Dishwasher', 7060),\n",
       " ('\"translation missing: en.hosting_amenity_50\"', 6587),\n",
       " ('\"Host greets you\"', 6361),\n",
       " ('\"Private living room\"', 5756),\n",
       " ('Lockbox', 5672),\n",
       " ('\"translation missing: en.hosting_amenity_49\"', 5379),\n",
       " ('\"Pets allowed\"', 4582),\n",
       " ('\"Paid parking off premises\"', 4294),\n",
       " ('Bathtub', 3866),\n",
       " ('\"Patio or balcony\"', 3622),\n",
       " ('\"24-hour check-in\"', 3587),\n",
       " ('\"Garden or backyard\"', 3457),\n",
       " ('\"Safety card\"', 3198),\n",
       " ('Gym', 3152),\n",
       " ('Breakfast', 2886),\n",
       " ('Other', 2840),\n",
       " ('\"Trash can\"', 2540),\n",
       " ('\"Free parking on premises\"', 2366),\n",
       " ('\"Pets live on this property\"', 2273),\n",
       " ('Keypad', 2243),\n",
       " ('\"Shower gel\"', 1951),\n",
       " ('\"Room-darkening shades\"', 1909),\n",
       " ('\"Ethernet connection\"', 1868),\n",
       " ('\"Single level home\"', 1810),\n",
       " ('\"Smoking allowed\"', 1656),\n",
       " ('\"BBQ grill\"', 1508),\n",
       " ('\"Cleaning before checkout\"', 1464),\n",
       " ('\"Indoor fireplace\"', 1462),\n",
       " ('\"Pack ’n Play/travel crib\"', 1456),\n",
       " ('\"Children’s books and toys\"', 1379),\n",
       " ('Doorman', 1366),\n",
       " ('\"Window guards\"', 1267),\n",
       " ('\"Wheelchair accessible\"', 1255),\n",
       " ('\"Building staff\"', 1234),\n",
       " ('\"Paid parking on premises\"', 1160),\n",
       " ('\"Hot tub\"', 1151),\n",
       " ('Cat(s)', 1042),\n",
       " ('Dog(s)', 955),\n",
       " ('\"Suitable for events\"', 937),\n",
       " ('\"High chair\"', 898),\n",
       " ('\"Smart lock\"', 773),\n",
       " ('\"Babysitter recommendations\"', 739),\n",
       " ('Crib', 736),\n",
       " ('\"Baking sheet\"', 709),\n",
       " ('\"No stairs or steps to enter\"', 651),\n",
       " ('\"Children’s dinnerware\"', 568),\n",
       " ('\"Pocket wifi\"', 536),\n",
       " ('\"Outlet covers\"', 473),\n",
       " ('\"Well-lit path to entrance\"', 427),\n",
       " ('Pool', 424),\n",
       " ('\"Game console\"', 421),\n",
       " ('\"Wide entrance for guests\"', 299),\n",
       " ('Waterfront', 290),\n",
       " ('\"Wide hallways\"', 272),\n",
       " ('\"Baby bath\"', 265),\n",
       " ('\"Beach essentials\"', 258),\n",
       " ('\"Stair gates\"', 240),\n",
       " ('\"Flat path to guest entrance\"', 209),\n",
       " ('\"Changing table\"', 208),\n",
       " ('\"Barbecue utensils\"', 169),\n",
       " ('\"Fireplace guards\"', 136),\n",
       " ('\"Baby monitor\"', 128),\n",
       " ('\"EV charger\"', 126),\n",
       " ('\"Table corner guards\"', 106),\n",
       " ('Beachfront', 94),\n",
       " ('\"Lake access\"', 89),\n",
       " ('\"Bread maker\"', 87),\n",
       " ('\"Extra space around bed\"', 80),\n",
       " ('\"Other pet(s)\"', 68),\n",
       " ('\"Hot water kettle\"', 66),\n",
       " ('\"Wide entrance\"', 53),\n",
       " ('\"Wide entryway\"', 52),\n",
       " ('\"Accessible-height bed\"', 46),\n",
       " ('\"Firm mattress\"', 41),\n",
       " ('\"Handheld shower head\"', 41),\n",
       " ('\"Fixed grab bars for shower\"', 38),\n",
       " ('\"Fixed grab bars for toilet\"', 37),\n",
       " ('', 36),\n",
       " ('\"Accessible-height toilet\"', 33),\n",
       " (' toilet\"', 29),\n",
       " ('\"Full kitchen\"', 28),\n",
       " ('\"Wide clearance to shower', 28),\n",
       " ('\"Wide doorway to guest bathroom\"', 28),\n",
       " ('Ski-in/Ski-out', 19),\n",
       " ('\"Step-free shower\"', 18),\n",
       " ('\"Disabled parking spot\"', 18),\n",
       " ('\"Private bathroom\"', 14),\n",
       " ('\"Body soap\"', 11),\n",
       " ('\"Bathroom essentials\"', 11),\n",
       " ('\"Bath towel\"', 11),\n",
       " ('Bathrobes', 11),\n",
       " ('\"Toilet paper\"', 11),\n",
       " ('\"Bedroom comforts\"', 11),\n",
       " ('Safe', 11),\n",
       " ('\"Bluetooth speaker\"', 9),\n",
       " ('Washer/Dryer', 9),\n",
       " ('\"Record player\"', 8),\n",
       " ('\"Ground floor access\"', 8),\n",
       " ('\"Shower chair\"', 6),\n",
       " ('\"Air purifier\"', 5),\n",
       " ('\"Mini bar\"', 3),\n",
       " ('\"Bottled water\"', 3),\n",
       " ('\"Bathtub with bath chair\"', 3),\n",
       " ('Slippers', 3),\n",
       " ('\"Turndown service\"', 2),\n",
       " ('\"Mini fridge\"', 2),\n",
       " ('Kitchenette', 2),\n",
       " ('Snacks', 1),\n",
       " ('\"Mobile hoist\"', 1),\n",
       " ('\"Fixed grab bars for shower', 1),\n",
       " ('\"Electric profiling bed\"', 1)]"
      ]
     },
     "execution_count": 263,
     "metadata": {},
     "output_type": "execute_result"
    }
   ],
   "source": [
    "# 등장 횟수 기반으로 내립차순 정렬 \n",
    "sorted(am_dict.items(), key = lambda x : x[1], reverse = True)"
   ]
  },
  {
   "cell_type": "markdown",
   "metadata": {},
   "source": [
    "결과적으로 선정된 컬럼은 다음과 같음:\n",
    "\n",
    "Shampoo, \"Hair dryer\", TV, Iron, \"Laptop friendly workspace\", \"Hot water\", Refrigerator, \"Dishes and silverware\", \"Cooking basics\",\"Free street parking\",Microwave,Stove,Oven,\"Coffee maker\",\"Fire extinguisher\", \"Lock on bedroom door\",Washer,Dryer,\"Bed linens\",\"First aid kit\""
   ]
  },
  {
   "cell_type": "markdown",
   "metadata": {},
   "source": [
    "선정된 어매니티 품목을 컬럼으로 바꾼 뒤 숙소에서 해당 품목을 제공하고 있다면 1, 아니라면 0으로 채우기"
   ]
  },
  {
   "cell_type": "code",
   "execution_count": 290,
   "metadata": {},
   "outputs": [],
   "source": [
    "new_cols = ['Shampoo', '\"Hair dryer\"', 'TV', 'Iron', '\"Laptop friendly workspace\"', '\"Hot water\"', 'Refrigerator', '\"Dishes and silverware\"', '\"Cooking basics\"','\"Free street parking\"','Microwave','Stove','Oven','\"Coffee maker\"','\"Fire extinguisher\"', '\"Lock on bedroom door\"','Washer','Dryer','\"Bed linens\"','\"First aid kit\"']\n",
    "new_data = {}\n",
    "\n",
    "for i in new_cols:\n",
    "    new_data[i] = []"
   ]
  },
  {
   "cell_type": "code",
   "execution_count": 291,
   "metadata": {},
   "outputs": [],
   "source": [
    "for product in new_cols:\n",
    "    for am in encoded['amenities']:\n",
    "        if product in am :\n",
    "            new_data[product].append(1)\n",
    "        else:\n",
    "            new_data[product].append(0)"
   ]
  },
  {
   "cell_type": "code",
   "execution_count": 292,
   "metadata": {},
   "outputs": [],
   "source": [
    "new_df = pd.DataFrame(new_data)"
   ]
  },
  {
   "cell_type": "code",
   "execution_count": 302,
   "metadata": {
    "scrolled": true
   },
   "outputs": [
    {
     "data": {
      "text/html": [
       "<div>\n",
       "<style scoped>\n",
       "    .dataframe tbody tr th:only-of-type {\n",
       "        vertical-align: middle;\n",
       "    }\n",
       "\n",
       "    .dataframe tbody tr th {\n",
       "        vertical-align: top;\n",
       "    }\n",
       "\n",
       "    .dataframe thead th {\n",
       "        text-align: right;\n",
       "    }\n",
       "</style>\n",
       "<table border=\"1\" class=\"dataframe\">\n",
       "  <thead>\n",
       "    <tr style=\"text-align: right;\">\n",
       "      <th></th>\n",
       "      <th>id</th>\n",
       "      <th>host_is_superhost</th>\n",
       "      <th>host_listings_count</th>\n",
       "      <th>host_total_listings_count</th>\n",
       "      <th>host_verifications</th>\n",
       "      <th>host_has_profile_pic</th>\n",
       "      <th>host_identity_verified</th>\n",
       "      <th>neighborhood</th>\n",
       "      <th>latitude</th>\n",
       "      <th>longitude</th>\n",
       "      <th>...</th>\n",
       "      <th>Microwave</th>\n",
       "      <th>Stove</th>\n",
       "      <th>Oven</th>\n",
       "      <th>\"Coffee maker\"</th>\n",
       "      <th>\"Fire extinguisher\"</th>\n",
       "      <th>\"Lock on bedroom door\"</th>\n",
       "      <th>Washer</th>\n",
       "      <th>Dryer</th>\n",
       "      <th>\"Bed linens\"</th>\n",
       "      <th>\"First aid kit\"</th>\n",
       "    </tr>\n",
       "  </thead>\n",
       "  <tbody>\n",
       "    <tr>\n",
       "      <th>0</th>\n",
       "      <td>2595</td>\n",
       "      <td>f</td>\n",
       "      <td>6.0</td>\n",
       "      <td>6.0</td>\n",
       "      <td>['email', 'phone', 'reviews', 'offline_governm...</td>\n",
       "      <td>t</td>\n",
       "      <td>t</td>\n",
       "      <td>Manhattan</td>\n",
       "      <td>40.75362</td>\n",
       "      <td>-73.98377</td>\n",
       "      <td>...</td>\n",
       "      <td>0</td>\n",
       "      <td>1</td>\n",
       "      <td>1</td>\n",
       "      <td>1</td>\n",
       "      <td>1</td>\n",
       "      <td>1</td>\n",
       "      <td>0</td>\n",
       "      <td>0</td>\n",
       "      <td>1</td>\n",
       "      <td>0</td>\n",
       "    </tr>\n",
       "    <tr>\n",
       "      <th>1</th>\n",
       "      <td>3831</td>\n",
       "      <td>f</td>\n",
       "      <td>1.0</td>\n",
       "      <td>1.0</td>\n",
       "      <td>['email', 'phone', 'reviews', 'kba']</td>\n",
       "      <td>t</td>\n",
       "      <td>t</td>\n",
       "      <td>Brooklyn</td>\n",
       "      <td>40.68514</td>\n",
       "      <td>-73.95976</td>\n",
       "      <td>...</td>\n",
       "      <td>1</td>\n",
       "      <td>1</td>\n",
       "      <td>1</td>\n",
       "      <td>1</td>\n",
       "      <td>1</td>\n",
       "      <td>1</td>\n",
       "      <td>0</td>\n",
       "      <td>0</td>\n",
       "      <td>0</td>\n",
       "      <td>0</td>\n",
       "    </tr>\n",
       "    <tr>\n",
       "      <th>2</th>\n",
       "      <td>5099</td>\n",
       "      <td>f</td>\n",
       "      <td>1.0</td>\n",
       "      <td>1.0</td>\n",
       "      <td>['email', 'phone', 'reviews', 'jumio', 'govern...</td>\n",
       "      <td>t</td>\n",
       "      <td>f</td>\n",
       "      <td>Manhattan</td>\n",
       "      <td>40.74767</td>\n",
       "      <td>-73.97500</td>\n",
       "      <td>...</td>\n",
       "      <td>1</td>\n",
       "      <td>1</td>\n",
       "      <td>1</td>\n",
       "      <td>1</td>\n",
       "      <td>1</td>\n",
       "      <td>0</td>\n",
       "      <td>0</td>\n",
       "      <td>0</td>\n",
       "      <td>1</td>\n",
       "      <td>1</td>\n",
       "    </tr>\n",
       "    <tr>\n",
       "      <th>3</th>\n",
       "      <td>5114</td>\n",
       "      <td>f</td>\n",
       "      <td>3.0</td>\n",
       "      <td>3.0</td>\n",
       "      <td>['email', 'phone', 'reviews']</td>\n",
       "      <td>t</td>\n",
       "      <td>f</td>\n",
       "      <td>Manhattan</td>\n",
       "      <td>40.71910</td>\n",
       "      <td>-73.99040</td>\n",
       "      <td>...</td>\n",
       "      <td>0</td>\n",
       "      <td>0</td>\n",
       "      <td>0</td>\n",
       "      <td>0</td>\n",
       "      <td>0</td>\n",
       "      <td>0</td>\n",
       "      <td>1</td>\n",
       "      <td>1</td>\n",
       "      <td>0</td>\n",
       "      <td>0</td>\n",
       "    </tr>\n",
       "    <tr>\n",
       "      <th>4</th>\n",
       "      <td>5121</td>\n",
       "      <td>f</td>\n",
       "      <td>1.0</td>\n",
       "      <td>1.0</td>\n",
       "      <td>['email', 'phone', 'facebook', 'reviews', 'off...</td>\n",
       "      <td>t</td>\n",
       "      <td>f</td>\n",
       "      <td>Brooklyn</td>\n",
       "      <td>40.68688</td>\n",
       "      <td>-73.95596</td>\n",
       "      <td>...</td>\n",
       "      <td>0</td>\n",
       "      <td>0</td>\n",
       "      <td>0</td>\n",
       "      <td>0</td>\n",
       "      <td>0</td>\n",
       "      <td>0</td>\n",
       "      <td>0</td>\n",
       "      <td>0</td>\n",
       "      <td>0</td>\n",
       "      <td>0</td>\n",
       "    </tr>\n",
       "    <tr>\n",
       "      <th>...</th>\n",
       "      <td>...</td>\n",
       "      <td>...</td>\n",
       "      <td>...</td>\n",
       "      <td>...</td>\n",
       "      <td>...</td>\n",
       "      <td>...</td>\n",
       "      <td>...</td>\n",
       "      <td>...</td>\n",
       "      <td>...</td>\n",
       "      <td>...</td>\n",
       "      <td>...</td>\n",
       "      <td>...</td>\n",
       "      <td>...</td>\n",
       "      <td>...</td>\n",
       "      <td>...</td>\n",
       "      <td>...</td>\n",
       "      <td>...</td>\n",
       "      <td>...</td>\n",
       "      <td>...</td>\n",
       "      <td>...</td>\n",
       "      <td>...</td>\n",
       "    </tr>\n",
       "    <tr>\n",
       "      <th>38572</th>\n",
       "      <td>42750206</td>\n",
       "      <td>f</td>\n",
       "      <td>0.0</td>\n",
       "      <td>0.0</td>\n",
       "      <td>['phone', 'offline_government_id', 'selfie', '...</td>\n",
       "      <td>t</td>\n",
       "      <td>f</td>\n",
       "      <td>Queens</td>\n",
       "      <td>40.74024</td>\n",
       "      <td>-73.82093</td>\n",
       "      <td>...</td>\n",
       "      <td>1</td>\n",
       "      <td>0</td>\n",
       "      <td>0</td>\n",
       "      <td>0</td>\n",
       "      <td>1</td>\n",
       "      <td>1</td>\n",
       "      <td>0</td>\n",
       "      <td>0</td>\n",
       "      <td>1</td>\n",
       "      <td>0</td>\n",
       "    </tr>\n",
       "    <tr>\n",
       "      <th>38573</th>\n",
       "      <td>42762152</td>\n",
       "      <td>f</td>\n",
       "      <td>1.0</td>\n",
       "      <td>1.0</td>\n",
       "      <td>['email', 'phone']</td>\n",
       "      <td>t</td>\n",
       "      <td>f</td>\n",
       "      <td>Brooklyn</td>\n",
       "      <td>40.68645</td>\n",
       "      <td>-73.93803</td>\n",
       "      <td>...</td>\n",
       "      <td>0</td>\n",
       "      <td>0</td>\n",
       "      <td>0</td>\n",
       "      <td>0</td>\n",
       "      <td>1</td>\n",
       "      <td>1</td>\n",
       "      <td>0</td>\n",
       "      <td>0</td>\n",
       "      <td>0</td>\n",
       "      <td>1</td>\n",
       "    </tr>\n",
       "    <tr>\n",
       "      <th>38574</th>\n",
       "      <td>42794256</td>\n",
       "      <td>f</td>\n",
       "      <td>0.0</td>\n",
       "      <td>0.0</td>\n",
       "      <td>['email', 'phone', 'offline_government_id', 's...</td>\n",
       "      <td>t</td>\n",
       "      <td>f</td>\n",
       "      <td>Manhattan</td>\n",
       "      <td>40.83212</td>\n",
       "      <td>-73.94180</td>\n",
       "      <td>...</td>\n",
       "      <td>0</td>\n",
       "      <td>0</td>\n",
       "      <td>0</td>\n",
       "      <td>0</td>\n",
       "      <td>1</td>\n",
       "      <td>1</td>\n",
       "      <td>0</td>\n",
       "      <td>0</td>\n",
       "      <td>0</td>\n",
       "      <td>1</td>\n",
       "    </tr>\n",
       "    <tr>\n",
       "      <th>38575</th>\n",
       "      <td>42816035</td>\n",
       "      <td>f</td>\n",
       "      <td>10.0</td>\n",
       "      <td>10.0</td>\n",
       "      <td>['email', 'phone', 'jumio', 'offline_governmen...</td>\n",
       "      <td>t</td>\n",
       "      <td>f</td>\n",
       "      <td>Manhattan</td>\n",
       "      <td>40.76166</td>\n",
       "      <td>-73.99113</td>\n",
       "      <td>...</td>\n",
       "      <td>1</td>\n",
       "      <td>1</td>\n",
       "      <td>1</td>\n",
       "      <td>1</td>\n",
       "      <td>0</td>\n",
       "      <td>1</td>\n",
       "      <td>0</td>\n",
       "      <td>0</td>\n",
       "      <td>1</td>\n",
       "      <td>0</td>\n",
       "    </tr>\n",
       "    <tr>\n",
       "      <th>38576</th>\n",
       "      <td>42836326</td>\n",
       "      <td>f</td>\n",
       "      <td>0.0</td>\n",
       "      <td>0.0</td>\n",
       "      <td>['email', 'phone', 'reviews', 'jumio', 'offlin...</td>\n",
       "      <td>t</td>\n",
       "      <td>f</td>\n",
       "      <td>Manhattan</td>\n",
       "      <td>40.71927</td>\n",
       "      <td>-73.98932</td>\n",
       "      <td>...</td>\n",
       "      <td>0</td>\n",
       "      <td>0</td>\n",
       "      <td>0</td>\n",
       "      <td>0</td>\n",
       "      <td>0</td>\n",
       "      <td>0</td>\n",
       "      <td>0</td>\n",
       "      <td>0</td>\n",
       "      <td>0</td>\n",
       "      <td>0</td>\n",
       "    </tr>\n",
       "  </tbody>\n",
       "</table>\n",
       "<p>38577 rows × 64 columns</p>\n",
       "</div>"
      ],
      "text/plain": [
       "             id host_is_superhost  host_listings_count  \\\n",
       "0          2595                 f                  6.0   \n",
       "1          3831                 f                  1.0   \n",
       "2          5099                 f                  1.0   \n",
       "3          5114                 f                  3.0   \n",
       "4          5121                 f                  1.0   \n",
       "...         ...               ...                  ...   \n",
       "38572  42750206                 f                  0.0   \n",
       "38573  42762152                 f                  1.0   \n",
       "38574  42794256                 f                  0.0   \n",
       "38575  42816035                 f                 10.0   \n",
       "38576  42836326                 f                  0.0   \n",
       "\n",
       "       host_total_listings_count  \\\n",
       "0                            6.0   \n",
       "1                            1.0   \n",
       "2                            1.0   \n",
       "3                            3.0   \n",
       "4                            1.0   \n",
       "...                          ...   \n",
       "38572                        0.0   \n",
       "38573                        1.0   \n",
       "38574                        0.0   \n",
       "38575                       10.0   \n",
       "38576                        0.0   \n",
       "\n",
       "                                      host_verifications host_has_profile_pic  \\\n",
       "0      ['email', 'phone', 'reviews', 'offline_governm...                    t   \n",
       "1                   ['email', 'phone', 'reviews', 'kba']                    t   \n",
       "2      ['email', 'phone', 'reviews', 'jumio', 'govern...                    t   \n",
       "3                          ['email', 'phone', 'reviews']                    t   \n",
       "4      ['email', 'phone', 'facebook', 'reviews', 'off...                    t   \n",
       "...                                                  ...                  ...   \n",
       "38572  ['phone', 'offline_government_id', 'selfie', '...                    t   \n",
       "38573                                 ['email', 'phone']                    t   \n",
       "38574  ['email', 'phone', 'offline_government_id', 's...                    t   \n",
       "38575  ['email', 'phone', 'jumio', 'offline_governmen...                    t   \n",
       "38576  ['email', 'phone', 'reviews', 'jumio', 'offlin...                    t   \n",
       "\n",
       "      host_identity_verified neighborhood  latitude  longitude  ... Microwave  \\\n",
       "0                          t    Manhattan  40.75362  -73.98377  ...         0   \n",
       "1                          t     Brooklyn  40.68514  -73.95976  ...         1   \n",
       "2                          f    Manhattan  40.74767  -73.97500  ...         1   \n",
       "3                          f    Manhattan  40.71910  -73.99040  ...         0   \n",
       "4                          f     Brooklyn  40.68688  -73.95596  ...         0   \n",
       "...                      ...          ...       ...        ...  ...       ...   \n",
       "38572                      f       Queens  40.74024  -73.82093  ...         1   \n",
       "38573                      f     Brooklyn  40.68645  -73.93803  ...         0   \n",
       "38574                      f    Manhattan  40.83212  -73.94180  ...         0   \n",
       "38575                      f    Manhattan  40.76166  -73.99113  ...         1   \n",
       "38576                      f    Manhattan  40.71927  -73.98932  ...         0   \n",
       "\n",
       "      Stove Oven  \"Coffee maker\"  \"Fire extinguisher\"  \"Lock on bedroom door\"  \\\n",
       "0         1    1               1                    1                       1   \n",
       "1         1    1               1                    1                       1   \n",
       "2         1    1               1                    1                       0   \n",
       "3         0    0               0                    0                       0   \n",
       "4         0    0               0                    0                       0   \n",
       "...     ...  ...             ...                  ...                     ...   \n",
       "38572     0    0               0                    1                       1   \n",
       "38573     0    0               0                    1                       1   \n",
       "38574     0    0               0                    1                       1   \n",
       "38575     1    1               1                    0                       1   \n",
       "38576     0    0               0                    0                       0   \n",
       "\n",
       "       Washer Dryer  \"Bed linens\"  \"First aid kit\"  \n",
       "0           0     0             1                0  \n",
       "1           0     0             0                0  \n",
       "2           0     0             1                1  \n",
       "3           1     1             0                0  \n",
       "4           0     0             0                0  \n",
       "...       ...   ...           ...              ...  \n",
       "38572       0     0             1                0  \n",
       "38573       0     0             0                1  \n",
       "38574       0     0             0                1  \n",
       "38575       0     0             1                0  \n",
       "38576       0     0             0                0  \n",
       "\n",
       "[38577 rows x 64 columns]"
      ]
     },
     "execution_count": 302,
     "metadata": {},
     "output_type": "execute_result"
    }
   ],
   "source": [
    "final = pd.concat([encoded.reset_index(drop='True'), new_df], axis=1)\n",
    "final.drop('amenities',axis=1,inplace=True)\n",
    "final"
   ]
  },
  {
   "cell_type": "markdown",
   "metadata": {},
   "source": [
    "#### 2. 지표변수 생성\n",
    "\n",
    "- 숙소 수용 인원을 나타내는 accommodates도 가격 책정의 중요 요소가 될 것이라고 판단하고, feature 생성을 위해 histplot으로 시각화함\n",
    "- histplot으로 분포를 확인해봤을 때,1 ~ 3명은 small, 4 ~ 6명은 medium, 7~ 명은 large로 구분하기로 결정\n",
    "- group_size 컬럼을 새로 생성함"
   ]
  },
  {
   "cell_type": "code",
   "execution_count": 319,
   "metadata": {
    "id": "KAlfllHSOtoG"
   },
   "outputs": [
    {
     "data": {
      "text/plain": [
       "<Axes: xlabel='accommodates', ylabel='Count'>"
      ]
     },
     "execution_count": 319,
     "metadata": {},
     "output_type": "execute_result"
    },
    {
     "data": {
      "image/png": "[encoded data removed]",
      "text/plain": [
       "<Figure size 640x480 with 1 Axes>"
      ]
     },
     "metadata": {},
     "output_type": "display_data"
    }
   ],
   "source": [
    "#Q13-2) 지표변수 생성 \n",
    "\n",
    "#accommodates 컬럼의 분포 확인\n",
    "sns.histplot(x='accommodates', data = final, bins = 4)"
   ]
  },
  {
   "cell_type": "code",
   "execution_count": 322,
   "metadata": {},
   "outputs": [],
   "source": [
    "size = []\n",
    "for val in final['accommodates']:\n",
    "    if (1 <= val < 4):\n",
    "        size.append('small')\n",
    "    elif (4 <= val < 7):\n",
    "        size.append('medium')\n",
    "    else:\n",
    "        size.append('large')\n",
    "\n",
    "final['group_size'] = size"
   ]
  },
  {
   "cell_type": "code",
   "execution_count": 326,
   "metadata": {},
   "outputs": [
    {
     "data": {
      "text/html": [
       "<div>\n",
       "<style scoped>\n",
       "    .dataframe tbody tr th:only-of-type {\n",
       "        vertical-align: middle;\n",
       "    }\n",
       "\n",
       "    .dataframe tbody tr th {\n",
       "        vertical-align: top;\n",
       "    }\n",
       "\n",
       "    .dataframe thead th {\n",
       "        text-align: right;\n",
       "    }\n",
       "</style>\n",
       "<table border=\"1\" class=\"dataframe\">\n",
       "  <thead>\n",
       "    <tr style=\"text-align: right;\">\n",
       "      <th></th>\n",
       "      <th>accommodates</th>\n",
       "      <th>group_size</th>\n",
       "    </tr>\n",
       "  </thead>\n",
       "  <tbody>\n",
       "    <tr>\n",
       "      <th>0</th>\n",
       "      <td>2</td>\n",
       "      <td>small</td>\n",
       "    </tr>\n",
       "    <tr>\n",
       "      <th>1</th>\n",
       "      <td>3</td>\n",
       "      <td>small</td>\n",
       "    </tr>\n",
       "    <tr>\n",
       "      <th>2</th>\n",
       "      <td>2</td>\n",
       "      <td>small</td>\n",
       "    </tr>\n",
       "    <tr>\n",
       "      <th>3</th>\n",
       "      <td>2</td>\n",
       "      <td>small</td>\n",
       "    </tr>\n",
       "    <tr>\n",
       "      <th>4</th>\n",
       "      <td>2</td>\n",
       "      <td>small</td>\n",
       "    </tr>\n",
       "    <tr>\n",
       "      <th>...</th>\n",
       "      <td>...</td>\n",
       "      <td>...</td>\n",
       "    </tr>\n",
       "    <tr>\n",
       "      <th>38572</th>\n",
       "      <td>2</td>\n",
       "      <td>small</td>\n",
       "    </tr>\n",
       "    <tr>\n",
       "      <th>38573</th>\n",
       "      <td>2</td>\n",
       "      <td>small</td>\n",
       "    </tr>\n",
       "    <tr>\n",
       "      <th>38574</th>\n",
       "      <td>2</td>\n",
       "      <td>small</td>\n",
       "    </tr>\n",
       "    <tr>\n",
       "      <th>38575</th>\n",
       "      <td>3</td>\n",
       "      <td>small</td>\n",
       "    </tr>\n",
       "    <tr>\n",
       "      <th>38576</th>\n",
       "      <td>4</td>\n",
       "      <td>medium</td>\n",
       "    </tr>\n",
       "  </tbody>\n",
       "</table>\n",
       "<p>38577 rows × 2 columns</p>\n",
       "</div>"
      ],
      "text/plain": [
       "       accommodates group_size\n",
       "0                 2      small\n",
       "1                 3      small\n",
       "2                 2      small\n",
       "3                 2      small\n",
       "4                 2      small\n",
       "...             ...        ...\n",
       "38572             2      small\n",
       "38573             2      small\n",
       "38574             2      small\n",
       "38575             3      small\n",
       "38576             4     medium\n",
       "\n",
       "[38577 rows x 2 columns]"
      ]
     },
     "execution_count": 326,
     "metadata": {},
     "output_type": "execute_result"
    }
   ],
   "source": [
    "final[['accommodates','group_size']]"
   ]
  },
  {
   "cell_type": "markdown",
   "metadata": {},
   "source": [
    "### Feature Selection 전 전처리 2"
   ]
  },
  {
   "cell_type": "markdown",
   "metadata": {},
   "source": [
    "#### 1. Domain 지식 기반으로 불필요한 컬럼 걸러내기\n",
    "- 이상치 제거, feature split 및 지표변수 생성까지 완료한 final df에서 불필요한 컬럼을 제거하고자 함\n",
    "- 가격 책정에 영향을 미치지 않을 것 같은 id, host_verifications,reviews_per_month를 제거하고, 유사한 내용을 반복하는 컬럼인 host_listings_count도 제거\n",
    "- 특히나 이진 값으로 표현된 컬럼 중, 데이터 분포가 과도하게 한쪽으로 쏠려 있는 'host_has_profile_pic'이나 'is_location_exact', 'requires_license','require_guest_profile_picture','require_guest_phone_verification' 컬럼을 없애기로 결정"
   ]
  },
  {
   "cell_type": "code",
   "execution_count": 363,
   "metadata": {},
   "outputs": [],
   "source": [
    "prepared = final.drop(columns=['id','host_verifications',\n",
    "                              'reviews_per_month', 'host_listings_count',\n",
    "                              'host_has_profile_pic','is_location_exact',\n",
    "                              'requires_license','require_guest_profile_picture',\n",
    "                              'require_guest_phone_verification'])"
   ]
  },
  {
   "cell_type": "code",
   "execution_count": 332,
   "metadata": {},
   "outputs": [
    {
     "data": {
      "text/plain": [
       "<Axes: xlabel='host_has_profile_pic', ylabel='count'>"
      ]
     },
     "execution_count": 332,
     "metadata": {},
     "output_type": "execute_result"
    },
    {
     "data": {
      "image/png": "[encoded data removed]",
      "text/plain": [
       "<Figure size 640x480 with 1 Axes>"
      ]
     },
     "metadata": {},
     "output_type": "display_data"
    }
   ],
   "source": [
    "sns.countplot(x='host_has_profile_pic', data = final)"
   ]
  },
  {
   "cell_type": "code",
   "execution_count": 333,
   "metadata": {},
   "outputs": [
    {
     "data": {
      "text/plain": [
       "<Axes: xlabel='is_location_exact', ylabel='count'>"
      ]
     },
     "execution_count": 333,
     "metadata": {},
     "output_type": "execute_result"
    },
    {
     "data": {
      "image/png": "[encoded data removed]",
      "text/plain": [
       "<Figure size 640x480 with 1 Axes>"
      ]
     },
     "metadata": {},
     "output_type": "display_data"
    }
   ],
   "source": [
    "sns.countplot(x='is_location_exact', data = final)"
   ]
  },
  {
   "cell_type": "code",
   "execution_count": 335,
   "metadata": {},
   "outputs": [
    {
     "data": {
      "text/plain": [
       "<Axes: xlabel='requires_license', ylabel='count'>"
      ]
     },
     "execution_count": 335,
     "metadata": {},
     "output_type": "execute_result"
    },
    {
     "data": {
      "image/png": "[encoded data removed]",
      "text/plain": [
       "<Figure size 640x480 with 1 Axes>"
      ]
     },
     "metadata": {},
     "output_type": "display_data"
    }
   ],
   "source": [
    "sns.countplot(x='requires_license', data = final)"
   ]
  },
  {
   "cell_type": "code",
   "execution_count": 336,
   "metadata": {},
   "outputs": [
    {
     "data": {
      "text/plain": [
       "<Axes: xlabel='require_guest_profile_picture', ylabel='count'>"
      ]
     },
     "execution_count": 336,
     "metadata": {},
     "output_type": "execute_result"
    },
    {
     "data": {
      "image/png": "[encoded data removed]",
      "text/plain": [
       "<Figure size 640x480 with 1 Axes>"
      ]
     },
     "metadata": {},
     "output_type": "display_data"
    }
   ],
   "source": [
    "sns.countplot(x='require_guest_profile_picture', data = final)"
   ]
  },
  {
   "cell_type": "code",
   "execution_count": 337,
   "metadata": {
    "scrolled": true
   },
   "outputs": [
    {
     "data": {
      "text/plain": [
       "<Axes: xlabel='require_guest_phone_verification', ylabel='count'>"
      ]
     },
     "execution_count": 337,
     "metadata": {},
     "output_type": "execute_result"
    },
    {
     "data": {
      "image/png": "[encoded data removed]",
      "text/plain": [
       "<Figure size 640x480 with 1 Axes>"
      ]
     },
     "metadata": {},
     "output_type": "display_data"
    }
   ],
   "source": [
    "sns.countplot(x='require_guest_phone_verification', data = final)"
   ]
  },
  {
   "cell_type": "code",
   "execution_count": null,
   "metadata": {},
   "outputs": [],
   "source": []
  },
  {
   "cell_type": "markdown",
   "metadata": {},
   "source": [
    "#### 2. 수치형 변수 스케일링"
   ]
  },
  {
   "cell_type": "code",
   "execution_count": 364,
   "metadata": {},
   "outputs": [],
   "source": [
    "y = prepared['price']\n",
    "x = prepared.drop(['price'],axis=1)"
   ]
  },
  {
   "cell_type": "code",
   "execution_count": 366,
   "metadata": {},
   "outputs": [],
   "source": [
    "from sklearn.preprocessing import MinMaxScaler\n",
    "from sklearn.preprocessing import StandardScaler\n",
    "mm_scaler = MinMaxScaler()\n",
    "sd_scaler = StandardScaler()"
   ]
  },
  {
   "cell_type": "code",
   "execution_count": 383,
   "metadata": {},
   "outputs": [],
   "source": [
    "# Standard Scaling\n",
    "prepared._get_numeric_data().iloc[:,:-20].columns.tolist()\n",
    "sd_scaler = sd_scaler.fit_transform(scale)\n"
   ]
  },
  {
   "cell_type": "code",
   "execution_count": 387,
   "metadata": {},
   "outputs": [],
   "source": [
    "cols = prepared._get_numeric_data().iloc[:,:-20].columns.tolist()\n",
    "\n",
    "x[cols] = sd_scaler"
   ]
  },
  {
   "cell_type": "code",
   "execution_count": 388,
   "metadata": {},
   "outputs": [
    {
     "data": {
      "text/html": [
       "<div>\n",
       "<style scoped>\n",
       "    .dataframe tbody tr th:only-of-type {\n",
       "        vertical-align: middle;\n",
       "    }\n",
       "\n",
       "    .dataframe tbody tr th {\n",
       "        vertical-align: top;\n",
       "    }\n",
       "\n",
       "    .dataframe thead th {\n",
       "        text-align: right;\n",
       "    }\n",
       "</style>\n",
       "<table border=\"1\" class=\"dataframe\">\n",
       "  <thead>\n",
       "    <tr style=\"text-align: right;\">\n",
       "      <th></th>\n",
       "      <th>host_is_superhost</th>\n",
       "      <th>host_total_listings_count</th>\n",
       "      <th>host_identity_verified</th>\n",
       "      <th>neighborhood</th>\n",
       "      <th>latitude</th>\n",
       "      <th>longitude</th>\n",
       "      <th>property_type</th>\n",
       "      <th>room_type</th>\n",
       "      <th>accommodates</th>\n",
       "      <th>bathrooms</th>\n",
       "      <th>...</th>\n",
       "      <th>Oven</th>\n",
       "      <th>\"Coffee maker\"</th>\n",
       "      <th>\"Fire extinguisher\"</th>\n",
       "      <th>\"Lock on bedroom door\"</th>\n",
       "      <th>Washer</th>\n",
       "      <th>Dryer</th>\n",
       "      <th>\"Bed linens\"</th>\n",
       "      <th>\"First aid kit\"</th>\n",
       "      <th>group_size</th>\n",
       "      <th>price</th>\n",
       "    </tr>\n",
       "  </thead>\n",
       "  <tbody>\n",
       "    <tr>\n",
       "      <th>0</th>\n",
       "      <td>f</td>\n",
       "      <td>-0.045389</td>\n",
       "      <td>t</td>\n",
       "      <td>Manhattan</td>\n",
       "      <td>0.456535</td>\n",
       "      <td>-0.708578</td>\n",
       "      <td>Apartment</td>\n",
       "      <td>Entire home/apt</td>\n",
       "      <td>-0.490642</td>\n",
       "      <td>-0.343084</td>\n",
       "      <td>...</td>\n",
       "      <td>1</td>\n",
       "      <td>1</td>\n",
       "      <td>1</td>\n",
       "      <td>1</td>\n",
       "      <td>0</td>\n",
       "      <td>0</td>\n",
       "      <td>1</td>\n",
       "      <td>0</td>\n",
       "      <td>small</td>\n",
       "      <td>0.964637</td>\n",
       "    </tr>\n",
       "    <tr>\n",
       "      <th>1</th>\n",
       "      <td>f</td>\n",
       "      <td>-0.106295</td>\n",
       "      <td>t</td>\n",
       "      <td>Brooklyn</td>\n",
       "      <td>-0.778954</td>\n",
       "      <td>-0.210129</td>\n",
       "      <td>Guest suite</td>\n",
       "      <td>Entire home/apt</td>\n",
       "      <td>0.055134</td>\n",
       "      <td>-0.343084</td>\n",
       "      <td>...</td>\n",
       "      <td>1</td>\n",
       "      <td>1</td>\n",
       "      <td>1</td>\n",
       "      <td>1</td>\n",
       "      <td>0</td>\n",
       "      <td>0</td>\n",
       "      <td>0</td>\n",
       "      <td>0</td>\n",
       "      <td>small</td>\n",
       "      <td>-0.460973</td>\n",
       "    </tr>\n",
       "    <tr>\n",
       "      <th>2</th>\n",
       "      <td>f</td>\n",
       "      <td>-0.106295</td>\n",
       "      <td>f</td>\n",
       "      <td>Manhattan</td>\n",
       "      <td>0.349187</td>\n",
       "      <td>-0.526512</td>\n",
       "      <td>Apartment</td>\n",
       "      <td>Entire home/apt</td>\n",
       "      <td>-0.490642</td>\n",
       "      <td>-0.343084</td>\n",
       "      <td>...</td>\n",
       "      <td>1</td>\n",
       "      <td>1</td>\n",
       "      <td>1</td>\n",
       "      <td>0</td>\n",
       "      <td>0</td>\n",
       "      <td>0</td>\n",
       "      <td>1</td>\n",
       "      <td>1</td>\n",
       "      <td>small</td>\n",
       "      <td>0.702576</td>\n",
       "    </tr>\n",
       "    <tr>\n",
       "      <th>3</th>\n",
       "      <td>f</td>\n",
       "      <td>-0.081933</td>\n",
       "      <td>f</td>\n",
       "      <td>Manhattan</td>\n",
       "      <td>-0.166261</td>\n",
       "      <td>-0.846217</td>\n",
       "      <td>Apartment</td>\n",
       "      <td>Private room</td>\n",
       "      <td>-0.490642</td>\n",
       "      <td>-0.343084</td>\n",
       "      <td>...</td>\n",
       "      <td>0</td>\n",
       "      <td>0</td>\n",
       "      <td>0</td>\n",
       "      <td>0</td>\n",
       "      <td>1</td>\n",
       "      <td>1</td>\n",
       "      <td>0</td>\n",
       "      <td>0</td>\n",
       "      <td>small</td>\n",
       "      <td>-0.408560</td>\n",
       "    </tr>\n",
       "    <tr>\n",
       "      <th>4</th>\n",
       "      <td>f</td>\n",
       "      <td>-0.106295</td>\n",
       "      <td>f</td>\n",
       "      <td>Brooklyn</td>\n",
       "      <td>-0.747562</td>\n",
       "      <td>-0.131241</td>\n",
       "      <td>Apartment</td>\n",
       "      <td>Private room</td>\n",
       "      <td>-0.490642</td>\n",
       "      <td>-0.343084</td>\n",
       "      <td>...</td>\n",
       "      <td>0</td>\n",
       "      <td>0</td>\n",
       "      <td>0</td>\n",
       "      <td>0</td>\n",
       "      <td>0</td>\n",
       "      <td>0</td>\n",
       "      <td>0</td>\n",
       "      <td>0</td>\n",
       "      <td>small</td>\n",
       "      <td>-0.764963</td>\n",
       "    </tr>\n",
       "    <tr>\n",
       "      <th>...</th>\n",
       "      <td>...</td>\n",
       "      <td>...</td>\n",
       "      <td>...</td>\n",
       "      <td>...</td>\n",
       "      <td>...</td>\n",
       "      <td>...</td>\n",
       "      <td>...</td>\n",
       "      <td>...</td>\n",
       "      <td>...</td>\n",
       "      <td>...</td>\n",
       "      <td>...</td>\n",
       "      <td>...</td>\n",
       "      <td>...</td>\n",
       "      <td>...</td>\n",
       "      <td>...</td>\n",
       "      <td>...</td>\n",
       "      <td>...</td>\n",
       "      <td>...</td>\n",
       "      <td>...</td>\n",
       "      <td>...</td>\n",
       "      <td>...</td>\n",
       "    </tr>\n",
       "    <tr>\n",
       "      <th>38572</th>\n",
       "      <td>f</td>\n",
       "      <td>-0.118476</td>\n",
       "      <td>f</td>\n",
       "      <td>Queens</td>\n",
       "      <td>0.215138</td>\n",
       "      <td>2.671988</td>\n",
       "      <td>Villa</td>\n",
       "      <td>Private room</td>\n",
       "      <td>-0.490642</td>\n",
       "      <td>-0.343084</td>\n",
       "      <td>...</td>\n",
       "      <td>0</td>\n",
       "      <td>0</td>\n",
       "      <td>1</td>\n",
       "      <td>1</td>\n",
       "      <td>0</td>\n",
       "      <td>0</td>\n",
       "      <td>1</td>\n",
       "      <td>0</td>\n",
       "      <td>small</td>\n",
       "      <td>-0.985094</td>\n",
       "    </tr>\n",
       "    <tr>\n",
       "      <th>38573</th>\n",
       "      <td>f</td>\n",
       "      <td>-0.106295</td>\n",
       "      <td>f</td>\n",
       "      <td>Brooklyn</td>\n",
       "      <td>-0.755320</td>\n",
       "      <td>0.240987</td>\n",
       "      <td>Apartment</td>\n",
       "      <td>Private room</td>\n",
       "      <td>-0.490642</td>\n",
       "      <td>-0.343084</td>\n",
       "      <td>...</td>\n",
       "      <td>0</td>\n",
       "      <td>0</td>\n",
       "      <td>1</td>\n",
       "      <td>1</td>\n",
       "      <td>0</td>\n",
       "      <td>0</td>\n",
       "      <td>0</td>\n",
       "      <td>1</td>\n",
       "      <td>small</td>\n",
       "      <td>-0.555314</td>\n",
       "    </tr>\n",
       "    <tr>\n",
       "      <th>38574</th>\n",
       "      <td>f</td>\n",
       "      <td>-0.118476</td>\n",
       "      <td>f</td>\n",
       "      <td>Manhattan</td>\n",
       "      <td>1.872801</td>\n",
       "      <td>0.162721</td>\n",
       "      <td>Apartment</td>\n",
       "      <td>Private room</td>\n",
       "      <td>-0.490642</td>\n",
       "      <td>-0.343084</td>\n",
       "      <td>...</td>\n",
       "      <td>0</td>\n",
       "      <td>0</td>\n",
       "      <td>1</td>\n",
       "      <td>1</td>\n",
       "      <td>0</td>\n",
       "      <td>0</td>\n",
       "      <td>0</td>\n",
       "      <td>1</td>\n",
       "      <td>small</td>\n",
       "      <td>-0.817375</td>\n",
       "    </tr>\n",
       "    <tr>\n",
       "      <th>38575</th>\n",
       "      <td>f</td>\n",
       "      <td>0.003336</td>\n",
       "      <td>f</td>\n",
       "      <td>Manhattan</td>\n",
       "      <td>0.601590</td>\n",
       "      <td>-0.861372</td>\n",
       "      <td>Condominium</td>\n",
       "      <td>Entire home/apt</td>\n",
       "      <td>0.055134</td>\n",
       "      <td>0.974633</td>\n",
       "      <td>...</td>\n",
       "      <td>1</td>\n",
       "      <td>1</td>\n",
       "      <td>0</td>\n",
       "      <td>1</td>\n",
       "      <td>0</td>\n",
       "      <td>0</td>\n",
       "      <td>1</td>\n",
       "      <td>0</td>\n",
       "      <td>small</td>\n",
       "      <td>0.492928</td>\n",
       "    </tr>\n",
       "    <tr>\n",
       "      <th>38576</th>\n",
       "      <td>f</td>\n",
       "      <td>-0.118476</td>\n",
       "      <td>f</td>\n",
       "      <td>Manhattan</td>\n",
       "      <td>-0.163194</td>\n",
       "      <td>-0.823796</td>\n",
       "      <td>Apartment</td>\n",
       "      <td>Entire home/apt</td>\n",
       "      <td>0.600909</td>\n",
       "      <td>-0.343084</td>\n",
       "      <td>...</td>\n",
       "      <td>0</td>\n",
       "      <td>0</td>\n",
       "      <td>0</td>\n",
       "      <td>0</td>\n",
       "      <td>0</td>\n",
       "      <td>0</td>\n",
       "      <td>0</td>\n",
       "      <td>0</td>\n",
       "      <td>medium</td>\n",
       "      <td>1.226698</td>\n",
       "    </tr>\n",
       "  </tbody>\n",
       "</table>\n",
       "<p>38577 rows × 56 columns</p>\n",
       "</div>"
      ],
      "text/plain": [
       "      host_is_superhost  host_total_listings_count host_identity_verified  \\\n",
       "0                     f                  -0.045389                      t   \n",
       "1                     f                  -0.106295                      t   \n",
       "2                     f                  -0.106295                      f   \n",
       "3                     f                  -0.081933                      f   \n",
       "4                     f                  -0.106295                      f   \n",
       "...                 ...                        ...                    ...   \n",
       "38572                 f                  -0.118476                      f   \n",
       "38573                 f                  -0.106295                      f   \n",
       "38574                 f                  -0.118476                      f   \n",
       "38575                 f                   0.003336                      f   \n",
       "38576                 f                  -0.118476                      f   \n",
       "\n",
       "      neighborhood  latitude  longitude property_type        room_type  \\\n",
       "0        Manhattan  0.456535  -0.708578     Apartment  Entire home/apt   \n",
       "1         Brooklyn -0.778954  -0.210129   Guest suite  Entire home/apt   \n",
       "2        Manhattan  0.349187  -0.526512     Apartment  Entire home/apt   \n",
       "3        Manhattan -0.166261  -0.846217     Apartment     Private room   \n",
       "4         Brooklyn -0.747562  -0.131241     Apartment     Private room   \n",
       "...            ...       ...        ...           ...              ...   \n",
       "38572       Queens  0.215138   2.671988         Villa     Private room   \n",
       "38573     Brooklyn -0.755320   0.240987     Apartment     Private room   \n",
       "38574    Manhattan  1.872801   0.162721     Apartment     Private room   \n",
       "38575    Manhattan  0.601590  -0.861372   Condominium  Entire home/apt   \n",
       "38576    Manhattan -0.163194  -0.823796     Apartment  Entire home/apt   \n",
       "\n",
       "       accommodates  bathrooms  ...  Oven  \"Coffee maker\" \"Fire extinguisher\"  \\\n",
       "0         -0.490642  -0.343084  ...     1               1                   1   \n",
       "1          0.055134  -0.343084  ...     1               1                   1   \n",
       "2         -0.490642  -0.343084  ...     1               1                   1   \n",
       "3         -0.490642  -0.343084  ...     0               0                   0   \n",
       "4         -0.490642  -0.343084  ...     0               0                   0   \n",
       "...             ...        ...  ...   ...             ...                 ...   \n",
       "38572     -0.490642  -0.343084  ...     0               0                   1   \n",
       "38573     -0.490642  -0.343084  ...     0               0                   1   \n",
       "38574     -0.490642  -0.343084  ...     0               0                   1   \n",
       "38575      0.055134   0.974633  ...     1               1                   0   \n",
       "38576      0.600909  -0.343084  ...     0               0                   0   \n",
       "\n",
       "       \"Lock on bedroom door\" Washer  Dryer  \"Bed linens\" \"First aid kit\"  \\\n",
       "0                           1      0      0             1               0   \n",
       "1                           1      0      0             0               0   \n",
       "2                           0      0      0             1               1   \n",
       "3                           0      1      1             0               0   \n",
       "4                           0      0      0             0               0   \n",
       "...                       ...    ...    ...           ...             ...   \n",
       "38572                       1      0      0             1               0   \n",
       "38573                       1      0      0             0               1   \n",
       "38574                       1      0      0             0               1   \n",
       "38575                       1      0      0             1               0   \n",
       "38576                       0      0      0             0               0   \n",
       "\n",
       "       group_size     price  \n",
       "0           small  0.964637  \n",
       "1           small -0.460973  \n",
       "2           small  0.702576  \n",
       "3           small -0.408560  \n",
       "4           small -0.764963  \n",
       "...           ...       ...  \n",
       "38572       small -0.985094  \n",
       "38573       small -0.555314  \n",
       "38574       small -0.817375  \n",
       "38575       small  0.492928  \n",
       "38576      medium  1.226698  \n",
       "\n",
       "[38577 rows x 56 columns]"
      ]
     },
     "execution_count": 388,
     "metadata": {},
     "output_type": "execute_result"
    }
   ],
   "source": [
    "x"
   ]
  },
  {
   "cell_type": "markdown",
   "metadata": {},
   "source": [
    "#### 3. 범주형 변수 인코딩 \n",
    "\n",
    "- prepared 데이터프레임의 값들 중 범주형 변수를 담고 있는 컬럼 (문자열로 표현된)을 get_dummies를 활용해 인코딩\n"
   ]
  },
  {
   "cell_type": "code",
   "execution_count": 389,
   "metadata": {},
   "outputs": [],
   "source": [
    "fin = pd.get_dummies(x)"
   ]
  },
  {
   "cell_type": "code",
   "execution_count": 390,
   "metadata": {
    "scrolled": true
   },
   "outputs": [
    {
     "data": {
      "text/html": [
       "<div>\n",
       "<style scoped>\n",
       "    .dataframe tbody tr th:only-of-type {\n",
       "        vertical-align: middle;\n",
       "    }\n",
       "\n",
       "    .dataframe tbody tr th {\n",
       "        vertical-align: top;\n",
       "    }\n",
       "\n",
       "    .dataframe thead th {\n",
       "        text-align: right;\n",
       "    }\n",
       "</style>\n",
       "<table border=\"1\" class=\"dataframe\">\n",
       "  <thead>\n",
       "    <tr style=\"text-align: right;\">\n",
       "      <th></th>\n",
       "      <th>host_total_listings_count</th>\n",
       "      <th>latitude</th>\n",
       "      <th>longitude</th>\n",
       "      <th>accommodates</th>\n",
       "      <th>bathrooms</th>\n",
       "      <th>bedrooms</th>\n",
       "      <th>beds</th>\n",
       "      <th>guests_included</th>\n",
       "      <th>minimum_nights</th>\n",
       "      <th>maximum_nights</th>\n",
       "      <th>...</th>\n",
       "      <th>is_business_travel_ready_f</th>\n",
       "      <th>cancellation_policy_flexible</th>\n",
       "      <th>cancellation_policy_moderate</th>\n",
       "      <th>cancellation_policy_strict</th>\n",
       "      <th>cancellation_policy_strict_14_with_grace_period</th>\n",
       "      <th>cancellation_policy_super_strict_30</th>\n",
       "      <th>cancellation_policy_super_strict_60</th>\n",
       "      <th>group_size_large</th>\n",
       "      <th>group_size_medium</th>\n",
       "      <th>group_size_small</th>\n",
       "    </tr>\n",
       "  </thead>\n",
       "  <tbody>\n",
       "    <tr>\n",
       "      <th>0</th>\n",
       "      <td>-0.045389</td>\n",
       "      <td>0.456535</td>\n",
       "      <td>-0.708578</td>\n",
       "      <td>-0.490642</td>\n",
       "      <td>-0.343084</td>\n",
       "      <td>-1.613513</td>\n",
       "      <td>-0.501341</td>\n",
       "      <td>-0.493463</td>\n",
       "      <td>0.050979</td>\n",
       "      <td>-0.005136</td>\n",
       "      <td>...</td>\n",
       "      <td>1</td>\n",
       "      <td>0</td>\n",
       "      <td>0</td>\n",
       "      <td>0</td>\n",
       "      <td>1</td>\n",
       "      <td>0</td>\n",
       "      <td>0</td>\n",
       "      <td>0</td>\n",
       "      <td>0</td>\n",
       "      <td>1</td>\n",
       "    </tr>\n",
       "    <tr>\n",
       "      <th>1</th>\n",
       "      <td>-0.106295</td>\n",
       "      <td>-0.778954</td>\n",
       "      <td>-0.210129</td>\n",
       "      <td>0.055134</td>\n",
       "      <td>-0.343084</td>\n",
       "      <td>-0.240038</td>\n",
       "      <td>2.203460</td>\n",
       "      <td>-0.493463</td>\n",
       "      <td>-0.274278</td>\n",
       "      <td>-0.005172</td>\n",
       "      <td>...</td>\n",
       "      <td>1</td>\n",
       "      <td>0</td>\n",
       "      <td>1</td>\n",
       "      <td>0</td>\n",
       "      <td>0</td>\n",
       "      <td>0</td>\n",
       "      <td>0</td>\n",
       "      <td>0</td>\n",
       "      <td>0</td>\n",
       "      <td>1</td>\n",
       "    </tr>\n",
       "    <tr>\n",
       "      <th>2</th>\n",
       "      <td>-0.106295</td>\n",
       "      <td>0.349187</td>\n",
       "      <td>-0.526512</td>\n",
       "      <td>-0.490642</td>\n",
       "      <td>-0.343084</td>\n",
       "      <td>-0.240038</td>\n",
       "      <td>-0.501341</td>\n",
       "      <td>0.345437</td>\n",
       "      <td>-0.165859</td>\n",
       "      <td>-0.005237</td>\n",
       "      <td>...</td>\n",
       "      <td>1</td>\n",
       "      <td>0</td>\n",
       "      <td>1</td>\n",
       "      <td>0</td>\n",
       "      <td>0</td>\n",
       "      <td>0</td>\n",
       "      <td>0</td>\n",
       "      <td>0</td>\n",
       "      <td>0</td>\n",
       "      <td>1</td>\n",
       "    </tr>\n",
       "    <tr>\n",
       "      <th>3</th>\n",
       "      <td>-0.081933</td>\n",
       "      <td>-0.166261</td>\n",
       "      <td>-0.846217</td>\n",
       "      <td>-0.490642</td>\n",
       "      <td>-0.343084</td>\n",
       "      <td>-0.240038</td>\n",
       "      <td>-0.501341</td>\n",
       "      <td>-0.493463</td>\n",
       "      <td>-0.274278</td>\n",
       "      <td>-0.005172</td>\n",
       "      <td>...</td>\n",
       "      <td>1</td>\n",
       "      <td>0</td>\n",
       "      <td>0</td>\n",
       "      <td>0</td>\n",
       "      <td>1</td>\n",
       "      <td>0</td>\n",
       "      <td>0</td>\n",
       "      <td>0</td>\n",
       "      <td>0</td>\n",
       "      <td>1</td>\n",
       "    </tr>\n",
       "    <tr>\n",
       "      <th>4</th>\n",
       "      <td>-0.106295</td>\n",
       "      <td>-0.747562</td>\n",
       "      <td>-0.131241</td>\n",
       "      <td>-0.490642</td>\n",
       "      <td>-0.343084</td>\n",
       "      <td>-0.240038</td>\n",
       "      <td>-0.501341</td>\n",
       "      <td>-0.493463</td>\n",
       "      <td>1.243587</td>\n",
       "      <td>-0.005172</td>\n",
       "      <td>...</td>\n",
       "      <td>1</td>\n",
       "      <td>0</td>\n",
       "      <td>0</td>\n",
       "      <td>0</td>\n",
       "      <td>1</td>\n",
       "      <td>0</td>\n",
       "      <td>0</td>\n",
       "      <td>0</td>\n",
       "      <td>0</td>\n",
       "      <td>1</td>\n",
       "    </tr>\n",
       "    <tr>\n",
       "      <th>...</th>\n",
       "      <td>...</td>\n",
       "      <td>...</td>\n",
       "      <td>...</td>\n",
       "      <td>...</td>\n",
       "      <td>...</td>\n",
       "      <td>...</td>\n",
       "      <td>...</td>\n",
       "      <td>...</td>\n",
       "      <td>...</td>\n",
       "      <td>...</td>\n",
       "      <td>...</td>\n",
       "      <td>...</td>\n",
       "      <td>...</td>\n",
       "      <td>...</td>\n",
       "      <td>...</td>\n",
       "      <td>...</td>\n",
       "      <td>...</td>\n",
       "      <td>...</td>\n",
       "      <td>...</td>\n",
       "      <td>...</td>\n",
       "      <td>...</td>\n",
       "    </tr>\n",
       "    <tr>\n",
       "      <th>38572</th>\n",
       "      <td>-0.118476</td>\n",
       "      <td>0.215138</td>\n",
       "      <td>2.671988</td>\n",
       "      <td>-0.490642</td>\n",
       "      <td>-0.343084</td>\n",
       "      <td>-0.240038</td>\n",
       "      <td>-0.501341</td>\n",
       "      <td>-0.493463</td>\n",
       "      <td>-0.274278</td>\n",
       "      <td>-0.005136</td>\n",
       "      <td>...</td>\n",
       "      <td>1</td>\n",
       "      <td>0</td>\n",
       "      <td>1</td>\n",
       "      <td>0</td>\n",
       "      <td>0</td>\n",
       "      <td>0</td>\n",
       "      <td>0</td>\n",
       "      <td>0</td>\n",
       "      <td>0</td>\n",
       "      <td>1</td>\n",
       "    </tr>\n",
       "    <tr>\n",
       "      <th>38573</th>\n",
       "      <td>-0.106295</td>\n",
       "      <td>-0.755320</td>\n",
       "      <td>0.240987</td>\n",
       "      <td>-0.490642</td>\n",
       "      <td>-0.343084</td>\n",
       "      <td>-0.240038</td>\n",
       "      <td>-0.501341</td>\n",
       "      <td>-0.493463</td>\n",
       "      <td>-0.220069</td>\n",
       "      <td>-0.005237</td>\n",
       "      <td>...</td>\n",
       "      <td>1</td>\n",
       "      <td>1</td>\n",
       "      <td>0</td>\n",
       "      <td>0</td>\n",
       "      <td>0</td>\n",
       "      <td>0</td>\n",
       "      <td>0</td>\n",
       "      <td>0</td>\n",
       "      <td>0</td>\n",
       "      <td>1</td>\n",
       "    </tr>\n",
       "    <tr>\n",
       "      <th>38574</th>\n",
       "      <td>-0.118476</td>\n",
       "      <td>1.872801</td>\n",
       "      <td>0.162721</td>\n",
       "      <td>-0.490642</td>\n",
       "      <td>-0.343084</td>\n",
       "      <td>-0.240038</td>\n",
       "      <td>-0.501341</td>\n",
       "      <td>0.345437</td>\n",
       "      <td>-0.274278</td>\n",
       "      <td>-0.005136</td>\n",
       "      <td>...</td>\n",
       "      <td>1</td>\n",
       "      <td>0</td>\n",
       "      <td>0</td>\n",
       "      <td>0</td>\n",
       "      <td>1</td>\n",
       "      <td>0</td>\n",
       "      <td>0</td>\n",
       "      <td>0</td>\n",
       "      <td>0</td>\n",
       "      <td>1</td>\n",
       "    </tr>\n",
       "    <tr>\n",
       "      <th>38575</th>\n",
       "      <td>0.003336</td>\n",
       "      <td>0.601590</td>\n",
       "      <td>-0.861372</td>\n",
       "      <td>0.055134</td>\n",
       "      <td>0.974633</td>\n",
       "      <td>1.133436</td>\n",
       "      <td>0.400259</td>\n",
       "      <td>-0.493463</td>\n",
       "      <td>0.809912</td>\n",
       "      <td>-0.005136</td>\n",
       "      <td>...</td>\n",
       "      <td>1</td>\n",
       "      <td>0</td>\n",
       "      <td>0</td>\n",
       "      <td>0</td>\n",
       "      <td>1</td>\n",
       "      <td>0</td>\n",
       "      <td>0</td>\n",
       "      <td>0</td>\n",
       "      <td>0</td>\n",
       "      <td>1</td>\n",
       "    </tr>\n",
       "    <tr>\n",
       "      <th>38576</th>\n",
       "      <td>-0.118476</td>\n",
       "      <td>-0.163194</td>\n",
       "      <td>-0.823796</td>\n",
       "      <td>0.600909</td>\n",
       "      <td>-0.343084</td>\n",
       "      <td>1.133436</td>\n",
       "      <td>0.400259</td>\n",
       "      <td>-0.493463</td>\n",
       "      <td>-0.274278</td>\n",
       "      <td>-0.005237</td>\n",
       "      <td>...</td>\n",
       "      <td>1</td>\n",
       "      <td>1</td>\n",
       "      <td>0</td>\n",
       "      <td>0</td>\n",
       "      <td>0</td>\n",
       "      <td>0</td>\n",
       "      <td>0</td>\n",
       "      <td>0</td>\n",
       "      <td>1</td>\n",
       "      <td>0</td>\n",
       "    </tr>\n",
       "  </tbody>\n",
       "</table>\n",
       "<p>38577 rows × 209 columns</p>\n",
       "</div>"
      ],
      "text/plain": [
       "       host_total_listings_count  latitude  longitude  accommodates  \\\n",
       "0                      -0.045389  0.456535  -0.708578     -0.490642   \n",
       "1                      -0.106295 -0.778954  -0.210129      0.055134   \n",
       "2                      -0.106295  0.349187  -0.526512     -0.490642   \n",
       "3                      -0.081933 -0.166261  -0.846217     -0.490642   \n",
       "4                      -0.106295 -0.747562  -0.131241     -0.490642   \n",
       "...                          ...       ...        ...           ...   \n",
       "38572                  -0.118476  0.215138   2.671988     -0.490642   \n",
       "38573                  -0.106295 -0.755320   0.240987     -0.490642   \n",
       "38574                  -0.118476  1.872801   0.162721     -0.490642   \n",
       "38575                   0.003336  0.601590  -0.861372      0.055134   \n",
       "38576                  -0.118476 -0.163194  -0.823796      0.600909   \n",
       "\n",
       "       bathrooms  bedrooms      beds  guests_included  minimum_nights  \\\n",
       "0      -0.343084 -1.613513 -0.501341        -0.493463        0.050979   \n",
       "1      -0.343084 -0.240038  2.203460        -0.493463       -0.274278   \n",
       "2      -0.343084 -0.240038 -0.501341         0.345437       -0.165859   \n",
       "3      -0.343084 -0.240038 -0.501341        -0.493463       -0.274278   \n",
       "4      -0.343084 -0.240038 -0.501341        -0.493463        1.243587   \n",
       "...          ...       ...       ...              ...             ...   \n",
       "38572  -0.343084 -0.240038 -0.501341        -0.493463       -0.274278   \n",
       "38573  -0.343084 -0.240038 -0.501341        -0.493463       -0.220069   \n",
       "38574  -0.343084 -0.240038 -0.501341         0.345437       -0.274278   \n",
       "38575   0.974633  1.133436  0.400259        -0.493463        0.809912   \n",
       "38576  -0.343084  1.133436  0.400259        -0.493463       -0.274278   \n",
       "\n",
       "       maximum_nights  ...  is_business_travel_ready_f  \\\n",
       "0           -0.005136  ...                           1   \n",
       "1           -0.005172  ...                           1   \n",
       "2           -0.005237  ...                           1   \n",
       "3           -0.005172  ...                           1   \n",
       "4           -0.005172  ...                           1   \n",
       "...               ...  ...                         ...   \n",
       "38572       -0.005136  ...                           1   \n",
       "38573       -0.005237  ...                           1   \n",
       "38574       -0.005136  ...                           1   \n",
       "38575       -0.005136  ...                           1   \n",
       "38576       -0.005237  ...                           1   \n",
       "\n",
       "       cancellation_policy_flexible  cancellation_policy_moderate  \\\n",
       "0                                 0                             0   \n",
       "1                                 0                             1   \n",
       "2                                 0                             1   \n",
       "3                                 0                             0   \n",
       "4                                 0                             0   \n",
       "...                             ...                           ...   \n",
       "38572                             0                             1   \n",
       "38573                             1                             0   \n",
       "38574                             0                             0   \n",
       "38575                             0                             0   \n",
       "38576                             1                             0   \n",
       "\n",
       "       cancellation_policy_strict  \\\n",
       "0                               0   \n",
       "1                               0   \n",
       "2                               0   \n",
       "3                               0   \n",
       "4                               0   \n",
       "...                           ...   \n",
       "38572                           0   \n",
       "38573                           0   \n",
       "38574                           0   \n",
       "38575                           0   \n",
       "38576                           0   \n",
       "\n",
       "       cancellation_policy_strict_14_with_grace_period  \\\n",
       "0                                                    1   \n",
       "1                                                    0   \n",
       "2                                                    0   \n",
       "3                                                    1   \n",
       "4                                                    1   \n",
       "...                                                ...   \n",
       "38572                                                0   \n",
       "38573                                                0   \n",
       "38574                                                1   \n",
       "38575                                                1   \n",
       "38576                                                0   \n",
       "\n",
       "       cancellation_policy_super_strict_30  \\\n",
       "0                                        0   \n",
       "1                                        0   \n",
       "2                                        0   \n",
       "3                                        0   \n",
       "4                                        0   \n",
       "...                                    ...   \n",
       "38572                                    0   \n",
       "38573                                    0   \n",
       "38574                                    0   \n",
       "38575                                    0   \n",
       "38576                                    0   \n",
       "\n",
       "       cancellation_policy_super_strict_60  group_size_large  \\\n",
       "0                                        0                 0   \n",
       "1                                        0                 0   \n",
       "2                                        0                 0   \n",
       "3                                        0                 0   \n",
       "4                                        0                 0   \n",
       "...                                    ...               ...   \n",
       "38572                                    0                 0   \n",
       "38573                                    0                 0   \n",
       "38574                                    0                 0   \n",
       "38575                                    0                 0   \n",
       "38576                                    0                 0   \n",
       "\n",
       "       group_size_medium  group_size_small  \n",
       "0                      0                 1  \n",
       "1                      0                 1  \n",
       "2                      0                 1  \n",
       "3                      0                 1  \n",
       "4                      0                 1  \n",
       "...                  ...               ...  \n",
       "38572                  0                 1  \n",
       "38573                  0                 1  \n",
       "38574                  0                 1  \n",
       "38575                  0                 1  \n",
       "38576                  1                 0  \n",
       "\n",
       "[38577 rows x 209 columns]"
      ]
     },
     "execution_count": 390,
     "metadata": {},
     "output_type": "execute_result"
    }
   ],
   "source": [
    "fin"
   ]
  },
  {
   "cell_type": "markdown",
   "metadata": {},
   "source": [
    "### Feature Selection (FE 3단계)\n",
    "\n",
    "- 변수 추가 및 인코딩으로 인해 column 수가 과도하게 증가한 상태임\n",
    "- feature selection을 통해 가격에 영향을 미치는 요소 골라내기"
   ]
  },
  {
   "cell_type": "code",
   "execution_count": 393,
   "metadata": {},
   "outputs": [
    {
     "name": "stdout",
     "output_type": "stream",
     "text": [
      "Selected Features via mRMR:  ['minimum_nights', 'extra_people_$5.00', 'property_type_Apartment', 'Stove', 'neighborhood_Brooklyn', 'cancellation_policy_strict', 'Dryer', 'instant_bookable_t', 'cancellation_policy_super_strict_60', 'cancellation_policy_moderate']\n"
     ]
    }
   ],
   "source": [
    "#Q13-3) Feature Selection\n",
    "import pymrmr\n",
    "selected_features = pymrmr.mRMR(fin, 'MIQ', 10)  # 10개의 특성 선택\n",
    "\n",
    "print(\"Selected Features via mRMR: \", selected_features)"
   ]
  },
  {
   "cell_type": "code",
   "execution_count": 392,
   "metadata": {},
   "outputs": [
    {
     "data": {
      "text/html": [
       "<div>\n",
       "<style scoped>\n",
       "    .dataframe tbody tr th:only-of-type {\n",
       "        vertical-align: middle;\n",
       "    }\n",
       "\n",
       "    .dataframe tbody tr th {\n",
       "        vertical-align: top;\n",
       "    }\n",
       "\n",
       "    .dataframe thead th {\n",
       "        text-align: right;\n",
       "    }\n",
       "</style>\n",
       "<table border=\"1\" class=\"dataframe\">\n",
       "  <thead>\n",
       "    <tr style=\"text-align: right;\">\n",
       "      <th></th>\n",
       "      <th>PC1</th>\n",
       "      <th>PC2</th>\n",
       "      <th>PC3</th>\n",
       "      <th>PC4</th>\n",
       "      <th>PC5</th>\n",
       "    </tr>\n",
       "  </thead>\n",
       "  <tbody>\n",
       "    <tr>\n",
       "      <th>0</th>\n",
       "      <td>0.463058</td>\n",
       "      <td>0.065552</td>\n",
       "      <td>-1.255604</td>\n",
       "      <td>-0.782085</td>\n",
       "      <td>2.006116</td>\n",
       "    </tr>\n",
       "    <tr>\n",
       "      <th>1</th>\n",
       "      <td>1.724540</td>\n",
       "      <td>-0.802305</td>\n",
       "      <td>-0.434153</td>\n",
       "      <td>4.830992</td>\n",
       "      <td>1.895177</td>\n",
       "    </tr>\n",
       "    <tr>\n",
       "      <th>2</th>\n",
       "      <td>-1.054921</td>\n",
       "      <td>-0.367450</td>\n",
       "      <td>0.612724</td>\n",
       "      <td>1.266710</td>\n",
       "      <td>1.937957</td>\n",
       "    </tr>\n",
       "    <tr>\n",
       "      <th>3</th>\n",
       "      <td>0.152124</td>\n",
       "      <td>-0.393630</td>\n",
       "      <td>-1.978117</td>\n",
       "      <td>-2.217391</td>\n",
       "      <td>-0.382938</td>\n",
       "    </tr>\n",
       "    <tr>\n",
       "      <th>4</th>\n",
       "      <td>1.587059</td>\n",
       "      <td>2.105932</td>\n",
       "      <td>-2.214669</td>\n",
       "      <td>-1.901855</td>\n",
       "      <td>-1.418499</td>\n",
       "    </tr>\n",
       "    <tr>\n",
       "      <th>...</th>\n",
       "      <td>...</td>\n",
       "      <td>...</td>\n",
       "      <td>...</td>\n",
       "      <td>...</td>\n",
       "      <td>...</td>\n",
       "    </tr>\n",
       "    <tr>\n",
       "      <th>38572</th>\n",
       "      <td>0.480648</td>\n",
       "      <td>-0.838220</td>\n",
       "      <td>-2.819532</td>\n",
       "      <td>-0.841581</td>\n",
       "      <td>-2.487684</td>\n",
       "    </tr>\n",
       "    <tr>\n",
       "      <th>38573</th>\n",
       "      <td>0.456959</td>\n",
       "      <td>-0.498881</td>\n",
       "      <td>-2.507497</td>\n",
       "      <td>-2.370668</td>\n",
       "      <td>-2.231122</td>\n",
       "    </tr>\n",
       "    <tr>\n",
       "      <th>38574</th>\n",
       "      <td>-1.000233</td>\n",
       "      <td>-0.498927</td>\n",
       "      <td>-1.130859</td>\n",
       "      <td>-1.491909</td>\n",
       "      <td>-0.401598</td>\n",
       "    </tr>\n",
       "    <tr>\n",
       "      <th>38575</th>\n",
       "      <td>2.250457</td>\n",
       "      <td>-1.819992</td>\n",
       "      <td>-0.799072</td>\n",
       "      <td>-2.489445</td>\n",
       "      <td>0.529412</td>\n",
       "    </tr>\n",
       "    <tr>\n",
       "      <th>38576</th>\n",
       "      <td>0.864363</td>\n",
       "      <td>-1.229269</td>\n",
       "      <td>0.376898</td>\n",
       "      <td>-2.759139</td>\n",
       "      <td>-0.405242</td>\n",
       "    </tr>\n",
       "  </tbody>\n",
       "</table>\n",
       "<p>38577 rows × 5 columns</p>\n",
       "</div>"
      ],
      "text/plain": [
       "            PC1       PC2       PC3       PC4       PC5\n",
       "0      0.463058  0.065552 -1.255604 -0.782085  2.006116\n",
       "1      1.724540 -0.802305 -0.434153  4.830992  1.895177\n",
       "2     -1.054921 -0.367450  0.612724  1.266710  1.937957\n",
       "3      0.152124 -0.393630 -1.978117 -2.217391 -0.382938\n",
       "4      1.587059  2.105932 -2.214669 -1.901855 -1.418499\n",
       "...         ...       ...       ...       ...       ...\n",
       "38572  0.480648 -0.838220 -2.819532 -0.841581 -2.487684\n",
       "38573  0.456959 -0.498881 -2.507497 -2.370668 -2.231122\n",
       "38574 -1.000233 -0.498927 -1.130859 -1.491909 -0.401598\n",
       "38575  2.250457 -1.819992 -0.799072 -2.489445  0.529412\n",
       "38576  0.864363 -1.229269  0.376898 -2.759139 -0.405242\n",
       "\n",
       "[38577 rows x 5 columns]"
      ]
     },
     "execution_count": 392,
     "metadata": {},
     "output_type": "execute_result"
    }
   ],
   "source": [
    "from sklearn.decomposition import PCA\n",
    "\n",
    "pca = PCA(n_components=5)\n",
    "principalComponents = pca.fit_transform(fin)\n",
    "\n",
    "principalDf = pd.DataFrame(data=principalComponents, columns=['PC1', 'PC2', 'PC3', 'PC4', 'PC5'])\n",
    "\n",
    "principalDf"
   ]
  },
  {
   "cell_type": "markdown",
   "metadata": {
    "id": "ZXHTpb4bfcpt"
   },
   "source": [
    "---\n",
    "\n",
    "EDA는 언뜻보면 불필요해 보이는 과정이지만, 실제 데이터를 다룰때 매우매우 중요한 과정입니다.\n",
    "\n",
    "때문에 기본적인 개념 및 시각화 방법은 숙지해 두시는 것이 좋습니다!\n",
    "\n",
    "또한 FE를 통하여 여러분들이 실제로 필요한 모델에 필요한 변수 형태를 띄게 변수를 바꿔주는 과정 또한 필수적인 과정이니, 다양한 방법의 FE 역시 숙지해 두시는 게 좋습니다\n",
    "\n",
    "---"
   ]
  },
  {
   "cell_type": "markdown",
   "metadata": {
    "id": "rAMzDDdVOtoH"
   },
   "source": [
    "* Q2 hint\n",
    "\n",
    "<font color='white'> df의 null의 개수를 센 다음에, \".to_frame()\" 을 써보세요.\n",
    "1. missingnum=df.isnull().sum()으로 우선 결측치확인\n",
    "2. missingnum>0조건 만족시키는 missingnum 확인하기\n",
    "3. missingnum을 column으로 하는 새로운 df생성\n",
    "4. 새로운 df sort하기\n",
    "5. missing_%를 새로운 column으로 추가\n",
    "\n",
    "</font>"
   ]
  },
  {
   "cell_type": "markdown",
   "metadata": {
    "id": "zGsYY-WvOtoH"
   },
   "source": [
    "* Q3 hint\n",
    "\n",
    "\n",
    "<font color='white'> x축 라벨을 45도 기울이려면 plot.set_xticklabels()을 찾아보세요. </font>\n"
   ]
  },
  {
   "cell_type": "code",
   "execution_count": null,
   "metadata": {
    "id": "op9USZSgDn5i"
   },
   "outputs": [],
   "source": []
  }
 ],
 "metadata": {
  "colab": {
   "provenance": []
  },
  "kernelspec": {
   "display_name": "Python 3 (ipykernel)",
   "language": "python",
   "name": "python3"
  },
  "language_info": {
   "codemirror_mode": {
    "name": "ipython",
    "version": 3
   },
   "file_extension": ".py",
   "mimetype": "text/x-python",
   "name": "python",
   "nbconvert_exporter": "python",
   "pygments_lexer": "ipython3",
   "version": "3.10.9"
  }
 },
 "nbformat": 4,
 "nbformat_minor": 1
}
